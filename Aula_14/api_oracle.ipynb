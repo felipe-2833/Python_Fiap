{
 "cells": [
  {
   "cell_type": "code",
   "execution_count": 36,
   "metadata": {},
   "outputs": [],
   "source": [
    "import oracledb\n",
    "import json"
   ]
  },
  {
   "cell_type": "code",
   "execution_count": 35,
   "metadata": {},
   "outputs": [],
   "source": [
    "def creat_oracle_connection():\n",
    "    dsn_str = oracledb.makedsn(\"oracle.fiap.com.br\", 1521, \"ORCL\")\n",
    "    user = \"rm556426\"\n",
    "    password = \"300103\"\n",
    "    con = oracledb.connect(user=user,password=password,dsn=dsn_str)\n",
    "    return con"
   ]
  },
  {
   "cell_type": "code",
   "execution_count": null,
   "metadata": {},
   "outputs": [],
   "source": [
    "def creat_oracle_connection_with_sql_alchemy():\n",
    "    dsn_str = oracledb.makedsn(\"oracle.fiap.com.br\", 1521, \"ORCL\")\n",
    "    user = \"rm556426\"\n",
    "    password = \"300103\"\n",
    "    con = oracledb.connect(user=user,password=password,dsn=dsn_str)\n",
    "    return con"
   ]
  },
  {
   "cell_type": "code",
   "execution_count": 37,
   "metadata": {},
   "outputs": [],
   "source": [
    "con = creat_oracle_connection()\n",
    "cur = con.cursor()"
   ]
  },
  {
   "cell_type": "code",
   "execution_count": 4,
   "metadata": {},
   "outputs": [],
   "source": [
    "# result = cur.execute(\"SELECT name FROM sqlite_master\")\n",
    "# exists = any(\"movie\" in record for record in result)"
   ]
  },
  {
   "cell_type": "code",
   "execution_count": 18,
   "metadata": {},
   "outputs": [],
   "source": [
    "# if not exists:\n",
    "#     cur.execute(\"CREATE TABLE movie(title, year, score)\")\n",
    "cur.execute(\"CREATE TABLE movie(title VARCHAR2(100), year NUMBER(4), score NUMBER(2,1))\")\n",
    " "
   ]
  },
  {
   "cell_type": "code",
   "execution_count": 5,
   "metadata": {},
   "outputs": [
    {
     "data": {
      "text/plain": [
       "[('movie',)]"
      ]
     },
     "execution_count": 5,
     "metadata": {},
     "output_type": "execute_result"
    }
   ],
   "source": [
    "res = cur.execute(\"SELECT name FROM sqlite_master\")\n",
    "# res.fetchone()\n",
    "res.fetchall()"
   ]
  },
  {
   "cell_type": "code",
   "execution_count": 19,
   "metadata": {},
   "outputs": [],
   "source": [
    "cur.execute(\n",
    "    \"\"\"\n",
    "INSERT INTO movie(title, year, score)\n",
    "VALUES ('The Shawshank Redemption', 1994, 9.3)\n",
    "            \"\"\"\n",
    ")"
   ]
  },
  {
   "cell_type": "code",
   "execution_count": 20,
   "metadata": {},
   "outputs": [
    {
     "data": {
      "text/plain": [
       "[('The Shawshank Redemption', 1994, 9.3)]"
      ]
     },
     "execution_count": 20,
     "metadata": {},
     "output_type": "execute_result"
    }
   ],
   "source": [
    "cur.execute(\"SELECT * from movie\").fetchall()"
   ]
  },
  {
   "cell_type": "code",
   "execution_count": 21,
   "metadata": {},
   "outputs": [],
   "source": [
    "con.commit()"
   ]
  },
  {
   "cell_type": "code",
   "execution_count": 22,
   "metadata": {},
   "outputs": [
    {
     "data": {
      "text/plain": [
       "[('The Shawshank Redemption', 1994, 9.3)]"
      ]
     },
     "execution_count": 22,
     "metadata": {},
     "output_type": "execute_result"
    }
   ],
   "source": [
    "result = cur.execute(\"SELECT * FROM movie\")\n",
    "result.fetchall()"
   ]
  },
  {
   "cell_type": "code",
   "execution_count": 27,
   "metadata": {},
   "outputs": [],
   "source": [
    "data = [\n",
    "        ('Monty Python and the Holy Grail', 1975, 8.2),\n",
    "        ('And Now for Something Completely Different', 1971, 7.5)\n",
    "]\n",
    "cur.executemany(\"INSERT INTO movie VALUES(:1, :2, :3)\", data)\n",
    "con.commit()"
   ]
  },
  {
   "cell_type": "code",
   "execution_count": 28,
   "metadata": {},
   "outputs": [
    {
     "data": {
      "text/plain": [
       "[('The Shawshank Redemption', 1994, 9.3),\n",
       " ('Monty Python and the Holy Grail', 1975, 8.2),\n",
       " ('And Now for Something Completely Different', 1971, 7.5)]"
      ]
     },
     "execution_count": 28,
     "metadata": {},
     "output_type": "execute_result"
    }
   ],
   "source": [
    "result = cur.execute(\"SELECT * FROM movie\")\n",
    "result.fetchall()"
   ]
  },
  {
   "cell_type": "code",
   "execution_count": 29,
   "metadata": {},
   "outputs": [
    {
     "data": {
      "text/plain": [
       "[('The Shawshank Redemption', 1994, 9.3),\n",
       " ('Monty Python and the Holy Grail', 1975, 8.2)]"
      ]
     },
     "execution_count": 29,
     "metadata": {},
     "output_type": "execute_result"
    }
   ],
   "source": [
    "result = cur.execute(\"SELECT * FROM movie WHERE score > 8.0\")\n",
    "result.fetchall()"
   ]
  },
  {
   "cell_type": "code",
   "execution_count": 30,
   "metadata": {},
   "outputs": [],
   "source": [
    "cur.execute(\"UPDATE movie SET score = 9.0 WHERE title = 'The Shawshank Redemption'\")"
   ]
  },
  {
   "cell_type": "code",
   "execution_count": 31,
   "metadata": {},
   "outputs": [],
   "source": [
    "con.commit()"
   ]
  },
  {
   "cell_type": "code",
   "execution_count": 39,
   "metadata": {},
   "outputs": [
    {
     "ename": "InterfaceError",
     "evalue": "DPY-1001: not connected to database",
     "output_type": "error",
     "traceback": [
      "\u001b[1;31m---------------------------------------------------------------------------\u001b[0m",
      "\u001b[1;31mInterfaceError\u001b[0m                            Traceback (most recent call last)",
      "Cell \u001b[1;32mIn[39], line 1\u001b[0m\n\u001b[1;32m----> 1\u001b[0m \u001b[43mcur\u001b[49m\u001b[38;5;241;43m.\u001b[39;49m\u001b[43mexecute\u001b[49m\u001b[43m(\u001b[49m\u001b[38;5;124;43m\"\u001b[39;49m\u001b[38;5;124;43mSELECT * FROM movie WHERE title = \u001b[39;49m\u001b[38;5;124;43m'\u001b[39;49m\u001b[38;5;124;43mThe Shawshank Redemption\u001b[39;49m\u001b[38;5;124;43m'\u001b[39;49m\u001b[38;5;124;43m\"\u001b[39;49m\u001b[43m)\u001b[49m\u001b[38;5;241m.\u001b[39mfetchall()\n",
      "File \u001b[1;32mg:\\Felipe\\FIAP\\Python_Fiap\\.venv\\Lib\\site-packages\\oracledb\\cursor.py:708\u001b[0m, in \u001b[0;36mCursor.execute\u001b[1;34m(self, statement, parameters, **keyword_parameters)\u001b[0m\n\u001b[0;32m    667\u001b[0m \u001b[38;5;28;01mdef\u001b[39;00m \u001b[38;5;21mexecute\u001b[39m(\n\u001b[0;32m    668\u001b[0m     \u001b[38;5;28mself\u001b[39m,\n\u001b[0;32m    669\u001b[0m     statement: Union[\u001b[38;5;28mstr\u001b[39m, \u001b[38;5;28;01mNone\u001b[39;00m],\n\u001b[0;32m    670\u001b[0m     parameters: Union[\u001b[38;5;28mlist\u001b[39m, \u001b[38;5;28mtuple\u001b[39m, \u001b[38;5;28mdict\u001b[39m] \u001b[38;5;241m=\u001b[39m \u001b[38;5;28;01mNone\u001b[39;00m,\n\u001b[0;32m    671\u001b[0m     \u001b[38;5;241m*\u001b[39m\u001b[38;5;241m*\u001b[39mkeyword_parameters: Any,\n\u001b[0;32m    672\u001b[0m ) \u001b[38;5;241m-\u001b[39m\u001b[38;5;241m>\u001b[39m Any:\n\u001b[0;32m    673\u001b[0m \u001b[38;5;250m    \u001b[39m\u001b[38;5;124;03m\"\"\"\u001b[39;00m\n\u001b[0;32m    674\u001b[0m \u001b[38;5;124;03m    Execute a statement against the database.\u001b[39;00m\n\u001b[0;32m    675\u001b[0m \n\u001b[1;32m   (...)\u001b[0m\n\u001b[0;32m    706\u001b[0m \u001b[38;5;124;03m    the cursor); otherwise, None is returned.\u001b[39;00m\n\u001b[0;32m    707\u001b[0m \u001b[38;5;124;03m    \"\"\"\u001b[39;00m\n\u001b[1;32m--> 708\u001b[0m     \u001b[38;5;28;43mself\u001b[39;49m\u001b[38;5;241;43m.\u001b[39;49m\u001b[43m_prepare_for_execute\u001b[49m\u001b[43m(\u001b[49m\u001b[43mstatement\u001b[49m\u001b[43m,\u001b[49m\u001b[43m \u001b[49m\u001b[43mparameters\u001b[49m\u001b[43m,\u001b[49m\u001b[43m \u001b[49m\u001b[43mkeyword_parameters\u001b[49m\u001b[43m)\u001b[49m\n\u001b[0;32m    709\u001b[0m     impl \u001b[38;5;241m=\u001b[39m \u001b[38;5;28mself\u001b[39m\u001b[38;5;241m.\u001b[39m_impl\n\u001b[0;32m    710\u001b[0m     impl\u001b[38;5;241m.\u001b[39mexecute(\u001b[38;5;28mself\u001b[39m)\n",
      "File \u001b[1;32mg:\\Felipe\\FIAP\\Python_Fiap\\.venv\\Lib\\site-packages\\oracledb\\cursor.py:136\u001b[0m, in \u001b[0;36mBaseCursor._prepare_for_execute\u001b[1;34m(self, statement, parameters, keyword_parameters)\u001b[0m\n\u001b[0;32m    130\u001b[0m \u001b[38;5;28;01mdef\u001b[39;00m \u001b[38;5;21m_prepare_for_execute\u001b[39m(\n\u001b[0;32m    131\u001b[0m     \u001b[38;5;28mself\u001b[39m, statement, parameters, keyword_parameters\u001b[38;5;241m=\u001b[39m\u001b[38;5;28;01mNone\u001b[39;00m\n\u001b[0;32m    132\u001b[0m ):\n\u001b[0;32m    133\u001b[0m \u001b[38;5;250m    \u001b[39m\u001b[38;5;124;03m\"\"\"\u001b[39;00m\n\u001b[0;32m    134\u001b[0m \u001b[38;5;124;03m    Internal method for preparing a statement for execution.\u001b[39;00m\n\u001b[0;32m    135\u001b[0m \u001b[38;5;124;03m    \"\"\"\u001b[39;00m\n\u001b[1;32m--> 136\u001b[0m     \u001b[38;5;28;43mself\u001b[39;49m\u001b[38;5;241;43m.\u001b[39;49m\u001b[43m_verify_open\u001b[49m\u001b[43m(\u001b[49m\u001b[43m)\u001b[49m\n\u001b[0;32m    137\u001b[0m     \u001b[38;5;28mself\u001b[39m\u001b[38;5;241m.\u001b[39m_impl\u001b[38;5;241m.\u001b[39m_prepare_for_execute(\n\u001b[0;32m    138\u001b[0m         \u001b[38;5;28mself\u001b[39m, statement, parameters, keyword_parameters\n\u001b[0;32m    139\u001b[0m     )\n",
      "File \u001b[1;32mg:\\Felipe\\FIAP\\Python_Fiap\\.venv\\Lib\\site-packages\\oracledb\\cursor.py:156\u001b[0m, in \u001b[0;36mBaseCursor._verify_open\u001b[1;34m(self)\u001b[0m\n\u001b[0;32m    154\u001b[0m \u001b[38;5;28;01mif\u001b[39;00m \u001b[38;5;28mself\u001b[39m\u001b[38;5;241m.\u001b[39m_impl \u001b[38;5;129;01mis\u001b[39;00m \u001b[38;5;28;01mNone\u001b[39;00m:\n\u001b[0;32m    155\u001b[0m     errors\u001b[38;5;241m.\u001b[39m_raise_err(errors\u001b[38;5;241m.\u001b[39mERR_CURSOR_NOT_OPEN)\n\u001b[1;32m--> 156\u001b[0m \u001b[38;5;28;43mself\u001b[39;49m\u001b[38;5;241;43m.\u001b[39;49m\u001b[43mconnection\u001b[49m\u001b[38;5;241;43m.\u001b[39;49m\u001b[43m_verify_connected\u001b[49m\u001b[43m(\u001b[49m\u001b[43m)\u001b[49m\n",
      "File \u001b[1;32mg:\\Felipe\\FIAP\\Python_Fiap\\.venv\\Lib\\site-packages\\oracledb\\connection.py:86\u001b[0m, in \u001b[0;36mBaseConnection._verify_connected\u001b[1;34m(self)\u001b[0m\n\u001b[0;32m     81\u001b[0m \u001b[38;5;250m\u001b[39m\u001b[38;5;124;03m\"\"\"\u001b[39;00m\n\u001b[0;32m     82\u001b[0m \u001b[38;5;124;03mVerifies that the connection is connected to the database. If it is\u001b[39;00m\n\u001b[0;32m     83\u001b[0m \u001b[38;5;124;03mnot, an exception is raised.\u001b[39;00m\n\u001b[0;32m     84\u001b[0m \u001b[38;5;124;03m\"\"\"\u001b[39;00m\n\u001b[0;32m     85\u001b[0m \u001b[38;5;28;01mif\u001b[39;00m \u001b[38;5;28mself\u001b[39m\u001b[38;5;241m.\u001b[39m_impl \u001b[38;5;129;01mis\u001b[39;00m \u001b[38;5;28;01mNone\u001b[39;00m:\n\u001b[1;32m---> 86\u001b[0m     \u001b[43merrors\u001b[49m\u001b[38;5;241;43m.\u001b[39;49m\u001b[43m_raise_err\u001b[49m\u001b[43m(\u001b[49m\u001b[43merrors\u001b[49m\u001b[38;5;241;43m.\u001b[39;49m\u001b[43mERR_NOT_CONNECTED\u001b[49m\u001b[43m)\u001b[49m\n",
      "File \u001b[1;32mg:\\Felipe\\FIAP\\Python_Fiap\\.venv\\Lib\\site-packages\\oracledb\\errors.py:195\u001b[0m, in \u001b[0;36m_raise_err\u001b[1;34m(error_num, context_error_message, cause, **args)\u001b[0m\n\u001b[0;32m    190\u001b[0m \u001b[38;5;250m\u001b[39m\u001b[38;5;124;03m\"\"\"\u001b[39;00m\n\u001b[0;32m    191\u001b[0m \u001b[38;5;124;03mRaises a driver specific exception from the specified error number and\u001b[39;00m\n\u001b[0;32m    192\u001b[0m \u001b[38;5;124;03msupplied arguments.\u001b[39;00m\n\u001b[0;32m    193\u001b[0m \u001b[38;5;124;03m\"\"\"\u001b[39;00m\n\u001b[0;32m    194\u001b[0m error \u001b[38;5;241m=\u001b[39m _create_err(error_num, context_error_message, cause, \u001b[38;5;241m*\u001b[39m\u001b[38;5;241m*\u001b[39margs)\n\u001b[1;32m--> 195\u001b[0m \u001b[38;5;28;01mraise\u001b[39;00m error\u001b[38;5;241m.\u001b[39mexc_type(error) \u001b[38;5;28;01mfrom\u001b[39;00m \u001b[38;5;21;01mcause\u001b[39;00m\n",
      "\u001b[1;31mInterfaceError\u001b[0m: DPY-1001: not connected to database"
     ]
    }
   ],
   "source": [
    "cur.execute(\"SELECT * FROM movie WHERE title = 'The Shawshank Redemption'\").fetchall()"
   ]
  },
  {
   "cell_type": "code",
   "execution_count": 38,
   "metadata": {},
   "outputs": [],
   "source": [
    "con.close()"
   ]
  },
  {
   "cell_type": "markdown",
   "metadata": {},
   "source": [
    "# Utilizando o pandas para trabalhar com o banco de dados"
   ]
  },
  {
   "cell_type": "code",
   "execution_count": 40,
   "metadata": {},
   "outputs": [],
   "source": [
    "import pandas as pd"
   ]
  },
  {
   "cell_type": "code",
   "execution_count": 42,
   "metadata": {},
   "outputs": [
    {
     "data": {
      "text/html": [
       "<div>\n",
       "<style scoped>\n",
       "    .dataframe tbody tr th:only-of-type {\n",
       "        vertical-align: middle;\n",
       "    }\n",
       "\n",
       "    .dataframe tbody tr th {\n",
       "        vertical-align: top;\n",
       "    }\n",
       "\n",
       "    .dataframe thead th {\n",
       "        text-align: right;\n",
       "    }\n",
       "</style>\n",
       "<table border=\"1\" class=\"dataframe\">\n",
       "  <thead>\n",
       "    <tr style=\"text-align: right;\">\n",
       "      <th></th>\n",
       "      <th>Report Received Date</th>\n",
       "      <th>Manufacturer</th>\n",
       "      <th>Component</th>\n",
       "      <th>Recall Type</th>\n",
       "      <th>Potentially Affected</th>\n",
       "    </tr>\n",
       "  </thead>\n",
       "  <tbody>\n",
       "    <tr>\n",
       "      <th>0</th>\n",
       "      <td>01/06/2023</td>\n",
       "      <td>Triple E Recreational Vehicles</td>\n",
       "      <td>ELECTRICAL SYSTEM</td>\n",
       "      <td>Vehicle</td>\n",
       "      <td>341</td>\n",
       "    </tr>\n",
       "    <tr>\n",
       "      <th>1</th>\n",
       "      <td>01/05/2023</td>\n",
       "      <td>Volvo Car USA, LLC</td>\n",
       "      <td>STEERING</td>\n",
       "      <td>Vehicle</td>\n",
       "      <td>74</td>\n",
       "    </tr>\n",
       "    <tr>\n",
       "      <th>2</th>\n",
       "      <td>12/29/2022</td>\n",
       "      <td>Volkswagen Group of America, Inc.</td>\n",
       "      <td>ELECTRICAL SYSTEM</td>\n",
       "      <td>Vehicle</td>\n",
       "      <td>1042</td>\n",
       "    </tr>\n",
       "    <tr>\n",
       "      <th>3</th>\n",
       "      <td>12/29/2022</td>\n",
       "      <td>Indian Motorcycle Company</td>\n",
       "      <td>STRUCTURE</td>\n",
       "      <td>Vehicle</td>\n",
       "      <td>4653</td>\n",
       "    </tr>\n",
       "    <tr>\n",
       "      <th>4</th>\n",
       "      <td>12/29/2022</td>\n",
       "      <td>Hendrickson USA. L.L.C.</td>\n",
       "      <td>SERVICE BRAKES, AIR</td>\n",
       "      <td>Equipment</td>\n",
       "      <td>12</td>\n",
       "    </tr>\n",
       "  </tbody>\n",
       "</table>\n",
       "</div>"
      ],
      "text/plain": [
       "  Report Received Date                       Manufacturer  \\\n",
       "0           01/06/2023     Triple E Recreational Vehicles   \n",
       "1           01/05/2023                 Volvo Car USA, LLC   \n",
       "2           12/29/2022  Volkswagen Group of America, Inc.   \n",
       "3           12/29/2022          Indian Motorcycle Company   \n",
       "4           12/29/2022            Hendrickson USA. L.L.C.   \n",
       "\n",
       "             Component Recall Type  Potentially Affected  \n",
       "0    ELECTRICAL SYSTEM     Vehicle                   341  \n",
       "1             STEERING     Vehicle                    74  \n",
       "2    ELECTRICAL SYSTEM     Vehicle                  1042  \n",
       "3            STRUCTURE     Vehicle                  4653  \n",
       "4  SERVICE BRAKES, AIR   Equipment                    12  "
      ]
     },
     "execution_count": 42,
     "metadata": {},
     "output_type": "execute_result"
    }
   ],
   "source": [
    "bd_carros = pd.read_csv(\"bd.csv\")  # , parse_dates=[\"Report Received Date\"])\n",
    "bd_carros[\"Potentially Affected\"] = (\n",
    "    bd_carros[\"Potentially Affected\"].fillna(0).astype(\"int\")\n",
    ")\n",
    "bd_carros.head()"
   ]
  },
  {
   "cell_type": "code",
   "execution_count": 43,
   "metadata": {},
   "outputs": [],
   "source": [
    "bd_carros.columns = [r.lower().replace(\" \", \"_\") for r in bd_carros.columns]"
   ]
  },
  {
   "cell_type": "code",
   "execution_count": 44,
   "metadata": {},
   "outputs": [
    {
     "data": {
      "text/html": [
       "<div>\n",
       "<style scoped>\n",
       "    .dataframe tbody tr th:only-of-type {\n",
       "        vertical-align: middle;\n",
       "    }\n",
       "\n",
       "    .dataframe tbody tr th {\n",
       "        vertical-align: top;\n",
       "    }\n",
       "\n",
       "    .dataframe thead th {\n",
       "        text-align: right;\n",
       "    }\n",
       "</style>\n",
       "<table border=\"1\" class=\"dataframe\">\n",
       "  <thead>\n",
       "    <tr style=\"text-align: right;\">\n",
       "      <th></th>\n",
       "      <th>report_received_date</th>\n",
       "      <th>manufacturer</th>\n",
       "      <th>component</th>\n",
       "      <th>recall_type</th>\n",
       "      <th>potentially_affected</th>\n",
       "    </tr>\n",
       "  </thead>\n",
       "  <tbody>\n",
       "    <tr>\n",
       "      <th>0</th>\n",
       "      <td>01/06/2023</td>\n",
       "      <td>Triple E Recreational Vehicles</td>\n",
       "      <td>ELECTRICAL SYSTEM</td>\n",
       "      <td>Vehicle</td>\n",
       "      <td>341</td>\n",
       "    </tr>\n",
       "    <tr>\n",
       "      <th>1</th>\n",
       "      <td>01/05/2023</td>\n",
       "      <td>Volvo Car USA, LLC</td>\n",
       "      <td>STEERING</td>\n",
       "      <td>Vehicle</td>\n",
       "      <td>74</td>\n",
       "    </tr>\n",
       "    <tr>\n",
       "      <th>2</th>\n",
       "      <td>12/29/2022</td>\n",
       "      <td>Volkswagen Group of America, Inc.</td>\n",
       "      <td>ELECTRICAL SYSTEM</td>\n",
       "      <td>Vehicle</td>\n",
       "      <td>1042</td>\n",
       "    </tr>\n",
       "    <tr>\n",
       "      <th>3</th>\n",
       "      <td>12/29/2022</td>\n",
       "      <td>Indian Motorcycle Company</td>\n",
       "      <td>STRUCTURE</td>\n",
       "      <td>Vehicle</td>\n",
       "      <td>4653</td>\n",
       "    </tr>\n",
       "    <tr>\n",
       "      <th>4</th>\n",
       "      <td>12/29/2022</td>\n",
       "      <td>Hendrickson USA. L.L.C.</td>\n",
       "      <td>SERVICE BRAKES, AIR</td>\n",
       "      <td>Equipment</td>\n",
       "      <td>12</td>\n",
       "    </tr>\n",
       "  </tbody>\n",
       "</table>\n",
       "</div>"
      ],
      "text/plain": [
       "  report_received_date                       manufacturer  \\\n",
       "0           01/06/2023     Triple E Recreational Vehicles   \n",
       "1           01/05/2023                 Volvo Car USA, LLC   \n",
       "2           12/29/2022  Volkswagen Group of America, Inc.   \n",
       "3           12/29/2022          Indian Motorcycle Company   \n",
       "4           12/29/2022            Hendrickson USA. L.L.C.   \n",
       "\n",
       "             component recall_type  potentially_affected  \n",
       "0    ELECTRICAL SYSTEM     Vehicle                   341  \n",
       "1             STEERING     Vehicle                    74  \n",
       "2    ELECTRICAL SYSTEM     Vehicle                  1042  \n",
       "3            STRUCTURE     Vehicle                  4653  \n",
       "4  SERVICE BRAKES, AIR   Equipment                    12  "
      ]
     },
     "execution_count": 44,
     "metadata": {},
     "output_type": "execute_result"
    }
   ],
   "source": [
    "bd_carros.head()"
   ]
  },
  {
   "cell_type": "code",
   "execution_count": 45,
   "metadata": {},
   "outputs": [
    {
     "name": "stdout",
     "output_type": "stream",
     "text": [
      "<class 'pandas.core.frame.DataFrame'>\n",
      "RangeIndex: 26590 entries, 0 to 26589\n",
      "Data columns (total 5 columns):\n",
      " #   Column                Non-Null Count  Dtype \n",
      "---  ------                --------------  ----- \n",
      " 0   report_received_date  26590 non-null  object\n",
      " 1   manufacturer          26590 non-null  object\n",
      " 2   component             26590 non-null  object\n",
      " 3   recall_type           26590 non-null  object\n",
      " 4   potentially_affected  26590 non-null  int64 \n",
      "dtypes: int64(1), object(4)\n",
      "memory usage: 1.0+ MB\n"
     ]
    }
   ],
   "source": [
    "bd_carros.info()"
   ]
  },
  {
   "cell_type": "code",
   "execution_count": 46,
   "metadata": {},
   "outputs": [],
   "source": [
    "con = creat_oracle_connection()\n",
    "cur = con.cursor()"
   ]
  },
  {
   "cell_type": "code",
   "execution_count": 48,
   "metadata": {},
   "outputs": [],
   "source": [
    "cur.execute(\n",
    "    \"\"\"\n",
    "    CREATE TABLE cars(\n",
    "        report_received_date VARCHAR2(10),\n",
    "        manufacturer VARCHAR2(100),\n",
    "        component VARCHAR2(100),\n",
    "        recall_type VARCHAR2(100),\n",
    "        potentially_affected NUMBER(10)\n",
    "        )\n",
    "    \"\"\"\n",
    ")\n"
   ]
  },
  {
   "cell_type": "code",
   "execution_count": 49,
   "metadata": {},
   "outputs": [],
   "source": [
    "data = bd_carros.head().to_records(index=False).tolist()\n",
    "cur.executemany(\n",
    "    \"\"\"\n",
    "    INSERT INTO cars VALUES(:1,:2,:3,:4,:5)\n",
    "    \"\"\",\n",
    "    data,\n",
    ")\n",
    "con.commit()"
   ]
  },
  {
   "cell_type": "code",
   "execution_count": 50,
   "metadata": {},
   "outputs": [],
   "source": [
    "bd_carros.report_received_date = bd_carros.report_received_date.apply(pd.to_datetime)"
   ]
  },
  {
   "cell_type": "code",
   "execution_count": 52,
   "metadata": {},
   "outputs": [],
   "source": [
    "#bd_carros.to_sql(\"cars2\", con, index=False)"
   ]
  },
  {
   "cell_type": "code",
   "execution_count": 53,
   "metadata": {},
   "outputs": [
    {
     "data": {
      "text/plain": [
       "(26590, 5)"
      ]
     },
     "execution_count": 53,
     "metadata": {},
     "output_type": "execute_result"
    }
   ],
   "source": [
    "bd_carros.shape"
   ]
  },
  {
   "cell_type": "code",
   "execution_count": 54,
   "metadata": {},
   "outputs": [
    {
     "name": "stderr",
     "output_type": "stream",
     "text": [
      "C:\\Users\\felip\\AppData\\Local\\Temp\\ipykernel_25320\\1066276391.py:1: UserWarning: pandas only supports SQLAlchemy connectable (engine/connection) or database string URI or sqlite3 DBAPI2 connection. Other DBAPI2 objects are not tested. Please consider using SQLAlchemy.\n",
      "  pd.read_sql(\n"
     ]
    },
    {
     "ename": "DatabaseError",
     "evalue": "Execution failed on sql '\n    SELECT *\n    FROM cars2\n    WHERE potentially_affected >= 20000\n    ': ORA-00942: table or view does not exist\nHelp: https://docs.oracle.com/error-help/db/ora-00942/",
     "output_type": "error",
     "traceback": [
      "\u001b[1;31m---------------------------------------------------------------------------\u001b[0m",
      "\u001b[1;31mDatabaseError\u001b[0m                             Traceback (most recent call last)",
      "File \u001b[1;32mg:\\Felipe\\FIAP\\Python_Fiap\\.venv\\Lib\\site-packages\\pandas\\io\\sql.py:2674\u001b[0m, in \u001b[0;36mSQLiteDatabase.execute\u001b[1;34m(self, sql, params)\u001b[0m\n\u001b[0;32m   2673\u001b[0m \u001b[38;5;28;01mtry\u001b[39;00m:\n\u001b[1;32m-> 2674\u001b[0m     \u001b[43mcur\u001b[49m\u001b[38;5;241;43m.\u001b[39;49m\u001b[43mexecute\u001b[49m\u001b[43m(\u001b[49m\u001b[43msql\u001b[49m\u001b[43m,\u001b[49m\u001b[43m \u001b[49m\u001b[38;5;241;43m*\u001b[39;49m\u001b[43margs\u001b[49m\u001b[43m)\u001b[49m\n\u001b[0;32m   2675\u001b[0m     \u001b[38;5;28;01mreturn\u001b[39;00m cur\n",
      "File \u001b[1;32mg:\\Felipe\\FIAP\\Python_Fiap\\.venv\\Lib\\site-packages\\oracledb\\cursor.py:710\u001b[0m, in \u001b[0;36mCursor.execute\u001b[1;34m(self, statement, parameters, **keyword_parameters)\u001b[0m\n\u001b[0;32m    709\u001b[0m impl \u001b[38;5;241m=\u001b[39m \u001b[38;5;28mself\u001b[39m\u001b[38;5;241m.\u001b[39m_impl\n\u001b[1;32m--> 710\u001b[0m \u001b[43mimpl\u001b[49m\u001b[38;5;241;43m.\u001b[39;49m\u001b[43mexecute\u001b[49m\u001b[43m(\u001b[49m\u001b[38;5;28;43mself\u001b[39;49m\u001b[43m)\u001b[49m\n\u001b[0;32m    711\u001b[0m \u001b[38;5;28;01mif\u001b[39;00m impl\u001b[38;5;241m.\u001b[39mfetch_vars \u001b[38;5;129;01mis\u001b[39;00m \u001b[38;5;129;01mnot\u001b[39;00m \u001b[38;5;28;01mNone\u001b[39;00m:\n",
      "File \u001b[1;32msrc\\\\oracledb\\\\impl/thin/cursor.pyx:196\u001b[0m, in \u001b[0;36moracledb.thin_impl.ThinCursorImpl.execute\u001b[1;34m()\u001b[0m\n",
      "File \u001b[1;32msrc\\\\oracledb\\\\impl/thin/protocol.pyx:440\u001b[0m, in \u001b[0;36moracledb.thin_impl.Protocol._process_single_message\u001b[1;34m()\u001b[0m\n",
      "File \u001b[1;32msrc\\\\oracledb\\\\impl/thin/protocol.pyx:441\u001b[0m, in \u001b[0;36moracledb.thin_impl.Protocol._process_single_message\u001b[1;34m()\u001b[0m\n",
      "File \u001b[1;32msrc\\\\oracledb\\\\impl/thin/protocol.pyx:433\u001b[0m, in \u001b[0;36moracledb.thin_impl.Protocol._process_message\u001b[1;34m()\u001b[0m\n",
      "File \u001b[1;32msrc\\\\oracledb\\\\impl/thin/messages.pyx:74\u001b[0m, in \u001b[0;36moracledb.thin_impl.Message._check_and_raise_exception\u001b[1;34m()\u001b[0m\n",
      "\u001b[1;31mDatabaseError\u001b[0m: ORA-00942: table or view does not exist\nHelp: https://docs.oracle.com/error-help/db/ora-00942/",
      "\nThe above exception was the direct cause of the following exception:\n",
      "\u001b[1;31mDatabaseError\u001b[0m                             Traceback (most recent call last)",
      "Cell \u001b[1;32mIn[54], line 1\u001b[0m\n\u001b[1;32m----> 1\u001b[0m \u001b[43mpd\u001b[49m\u001b[38;5;241;43m.\u001b[39;49m\u001b[43mread_sql\u001b[49m\u001b[43m(\u001b[49m\n\u001b[0;32m      2\u001b[0m \u001b[38;5;250;43m    \u001b[39;49m\u001b[38;5;124;43;03m\"\"\"\u001b[39;49;00m\n\u001b[0;32m      3\u001b[0m \u001b[38;5;124;43;03m    SELECT *\u001b[39;49;00m\n\u001b[0;32m      4\u001b[0m \u001b[38;5;124;43;03m    FROM cars2\u001b[39;49;00m\n\u001b[0;32m      5\u001b[0m \u001b[38;5;124;43;03m    WHERE potentially_affected >= 20000\u001b[39;49;00m\n\u001b[0;32m      6\u001b[0m \u001b[38;5;124;43;03m    \"\"\"\u001b[39;49;00m\u001b[43m,\u001b[49m\n\u001b[0;32m      7\u001b[0m \u001b[43m    \u001b[49m\u001b[43mcon\u001b[49m\u001b[43m,\u001b[49m\n\u001b[0;32m      8\u001b[0m \u001b[43m)\u001b[49m\n",
      "File \u001b[1;32mg:\\Felipe\\FIAP\\Python_Fiap\\.venv\\Lib\\site-packages\\pandas\\io\\sql.py:706\u001b[0m, in \u001b[0;36mread_sql\u001b[1;34m(sql, con, index_col, coerce_float, params, parse_dates, columns, chunksize, dtype_backend, dtype)\u001b[0m\n\u001b[0;32m    704\u001b[0m \u001b[38;5;28;01mwith\u001b[39;00m pandasSQL_builder(con) \u001b[38;5;28;01mas\u001b[39;00m pandas_sql:\n\u001b[0;32m    705\u001b[0m     \u001b[38;5;28;01mif\u001b[39;00m \u001b[38;5;28misinstance\u001b[39m(pandas_sql, SQLiteDatabase):\n\u001b[1;32m--> 706\u001b[0m         \u001b[38;5;28;01mreturn\u001b[39;00m \u001b[43mpandas_sql\u001b[49m\u001b[38;5;241;43m.\u001b[39;49m\u001b[43mread_query\u001b[49m\u001b[43m(\u001b[49m\n\u001b[0;32m    707\u001b[0m \u001b[43m            \u001b[49m\u001b[43msql\u001b[49m\u001b[43m,\u001b[49m\n\u001b[0;32m    708\u001b[0m \u001b[43m            \u001b[49m\u001b[43mindex_col\u001b[49m\u001b[38;5;241;43m=\u001b[39;49m\u001b[43mindex_col\u001b[49m\u001b[43m,\u001b[49m\n\u001b[0;32m    709\u001b[0m \u001b[43m            \u001b[49m\u001b[43mparams\u001b[49m\u001b[38;5;241;43m=\u001b[39;49m\u001b[43mparams\u001b[49m\u001b[43m,\u001b[49m\n\u001b[0;32m    710\u001b[0m \u001b[43m            \u001b[49m\u001b[43mcoerce_float\u001b[49m\u001b[38;5;241;43m=\u001b[39;49m\u001b[43mcoerce_float\u001b[49m\u001b[43m,\u001b[49m\n\u001b[0;32m    711\u001b[0m \u001b[43m            \u001b[49m\u001b[43mparse_dates\u001b[49m\u001b[38;5;241;43m=\u001b[39;49m\u001b[43mparse_dates\u001b[49m\u001b[43m,\u001b[49m\n\u001b[0;32m    712\u001b[0m \u001b[43m            \u001b[49m\u001b[43mchunksize\u001b[49m\u001b[38;5;241;43m=\u001b[39;49m\u001b[43mchunksize\u001b[49m\u001b[43m,\u001b[49m\n\u001b[0;32m    713\u001b[0m \u001b[43m            \u001b[49m\u001b[43mdtype_backend\u001b[49m\u001b[38;5;241;43m=\u001b[39;49m\u001b[43mdtype_backend\u001b[49m\u001b[43m,\u001b[49m\n\u001b[0;32m    714\u001b[0m \u001b[43m            \u001b[49m\u001b[43mdtype\u001b[49m\u001b[38;5;241;43m=\u001b[39;49m\u001b[43mdtype\u001b[49m\u001b[43m,\u001b[49m\n\u001b[0;32m    715\u001b[0m \u001b[43m        \u001b[49m\u001b[43m)\u001b[49m\n\u001b[0;32m    717\u001b[0m     \u001b[38;5;28;01mtry\u001b[39;00m:\n\u001b[0;32m    718\u001b[0m         _is_table_name \u001b[38;5;241m=\u001b[39m pandas_sql\u001b[38;5;241m.\u001b[39mhas_table(sql)\n",
      "File \u001b[1;32mg:\\Felipe\\FIAP\\Python_Fiap\\.venv\\Lib\\site-packages\\pandas\\io\\sql.py:2738\u001b[0m, in \u001b[0;36mSQLiteDatabase.read_query\u001b[1;34m(self, sql, index_col, coerce_float, parse_dates, params, chunksize, dtype, dtype_backend)\u001b[0m\n\u001b[0;32m   2727\u001b[0m \u001b[38;5;28;01mdef\u001b[39;00m \u001b[38;5;21mread_query\u001b[39m(\n\u001b[0;32m   2728\u001b[0m     \u001b[38;5;28mself\u001b[39m,\n\u001b[0;32m   2729\u001b[0m     sql,\n\u001b[1;32m   (...)\u001b[0m\n\u001b[0;32m   2736\u001b[0m     dtype_backend: DtypeBackend \u001b[38;5;241m|\u001b[39m Literal[\u001b[38;5;124m\"\u001b[39m\u001b[38;5;124mnumpy\u001b[39m\u001b[38;5;124m\"\u001b[39m] \u001b[38;5;241m=\u001b[39m \u001b[38;5;124m\"\u001b[39m\u001b[38;5;124mnumpy\u001b[39m\u001b[38;5;124m\"\u001b[39m,\n\u001b[0;32m   2737\u001b[0m ) \u001b[38;5;241m-\u001b[39m\u001b[38;5;241m>\u001b[39m DataFrame \u001b[38;5;241m|\u001b[39m Iterator[DataFrame]:\n\u001b[1;32m-> 2738\u001b[0m     cursor \u001b[38;5;241m=\u001b[39m \u001b[38;5;28;43mself\u001b[39;49m\u001b[38;5;241;43m.\u001b[39;49m\u001b[43mexecute\u001b[49m\u001b[43m(\u001b[49m\u001b[43msql\u001b[49m\u001b[43m,\u001b[49m\u001b[43m \u001b[49m\u001b[43mparams\u001b[49m\u001b[43m)\u001b[49m\n\u001b[0;32m   2739\u001b[0m     columns \u001b[38;5;241m=\u001b[39m [col_desc[\u001b[38;5;241m0\u001b[39m] \u001b[38;5;28;01mfor\u001b[39;00m col_desc \u001b[38;5;129;01min\u001b[39;00m cursor\u001b[38;5;241m.\u001b[39mdescription]\n\u001b[0;32m   2741\u001b[0m     \u001b[38;5;28;01mif\u001b[39;00m chunksize \u001b[38;5;129;01mis\u001b[39;00m \u001b[38;5;129;01mnot\u001b[39;00m \u001b[38;5;28;01mNone\u001b[39;00m:\n",
      "File \u001b[1;32mg:\\Felipe\\FIAP\\Python_Fiap\\.venv\\Lib\\site-packages\\pandas\\io\\sql.py:2686\u001b[0m, in \u001b[0;36mSQLiteDatabase.execute\u001b[1;34m(self, sql, params)\u001b[0m\n\u001b[0;32m   2683\u001b[0m     \u001b[38;5;28;01mraise\u001b[39;00m ex \u001b[38;5;28;01mfrom\u001b[39;00m \u001b[38;5;21;01minner_exc\u001b[39;00m\n\u001b[0;32m   2685\u001b[0m ex \u001b[38;5;241m=\u001b[39m DatabaseError(\u001b[38;5;124mf\u001b[39m\u001b[38;5;124m\"\u001b[39m\u001b[38;5;124mExecution failed on sql \u001b[39m\u001b[38;5;124m'\u001b[39m\u001b[38;5;132;01m{\u001b[39;00msql\u001b[38;5;132;01m}\u001b[39;00m\u001b[38;5;124m'\u001b[39m\u001b[38;5;124m: \u001b[39m\u001b[38;5;132;01m{\u001b[39;00mexc\u001b[38;5;132;01m}\u001b[39;00m\u001b[38;5;124m\"\u001b[39m)\n\u001b[1;32m-> 2686\u001b[0m \u001b[38;5;28;01mraise\u001b[39;00m ex \u001b[38;5;28;01mfrom\u001b[39;00m \u001b[38;5;21;01mexc\u001b[39;00m\n",
      "\u001b[1;31mDatabaseError\u001b[0m: Execution failed on sql '\n    SELECT *\n    FROM cars2\n    WHERE potentially_affected >= 20000\n    ': ORA-00942: table or view does not exist\nHelp: https://docs.oracle.com/error-help/db/ora-00942/"
     ]
    }
   ],
   "source": [
    "pd.read_sql(\n",
    "    \"\"\"\n",
    "    SELECT *\n",
    "    FROM cars2\n",
    "    WHERE potentially_affected >= 20000\n",
    "    \"\"\",\n",
    "    con,\n",
    ")"
   ]
  }
 ],
 "metadata": {
  "kernelspec": {
   "display_name": ".venv",
   "language": "python",
   "name": "python3"
  },
  "language_info": {
   "codemirror_mode": {
    "name": "ipython",
    "version": 3
   },
   "file_extension": ".py",
   "mimetype": "text/x-python",
   "name": "python",
   "nbconvert_exporter": "python",
   "pygments_lexer": "ipython3",
   "version": "3.12.2"
  }
 },
 "nbformat": 4,
 "nbformat_minor": 2
}
