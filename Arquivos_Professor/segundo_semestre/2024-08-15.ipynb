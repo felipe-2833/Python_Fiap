{
 "cells": [
  {
   "cell_type": "markdown",
   "metadata": {},
   "source": [
    "# Utilizando dicts como paramentros de funções (kwargs)"
   ]
  },
  {
   "cell_type": "code",
   "execution_count": 1,
   "metadata": {},
   "outputs": [
    {
     "name": "stdout",
     "output_type": "stream",
     "text": [
      "15\n",
      "6\n",
      "3\n",
      "1\n",
      "0\n"
     ]
    }
   ],
   "source": [
    "def soma(*args):\n",
    "    s = 0\n",
    "    for i in args:\n",
    "        s += i\n",
    "    return s\n",
    "\n",
    "\n",
    "print(soma(1, 2, 3, 4, 5))\n",
    "print(soma(1, 2, 3))\n",
    "print(soma(1, 2))\n",
    "print(soma(1))\n",
    "print(soma())"
   ]
  },
  {
   "cell_type": "code",
   "execution_count": 10,
   "metadata": {},
   "outputs": [
    {
     "name": "stdout",
     "output_type": "stream",
     "text": [
      "11\n",
      "6\n"
     ]
    }
   ],
   "source": [
    "def foo(a=0, b=0, c=0, *args, **kwargs):\n",
    "    s = a + b + c\n",
    "    for i in args:  # tupla\n",
    "        s += i\n",
    "    for i in kwargs.values():  # dicionario\n",
    "        s += i\n",
    "    return s\n",
    "\n",
    "\n",
    "print(foo(b=1, a=2, c=3, d=5))\n",
    "print(foo(1, 2, 3))"
   ]
  },
  {
   "cell_type": "code",
   "execution_count": 11,
   "metadata": {},
   "outputs": [],
   "source": [
    "def foo1(*args, **kwargs):\n",
    "    pass\n",
    "\n",
    "\n",
    "# *args: é relativo aos parametros posicionais\n",
    "# **kwargs: é relativo aos parametros nomeados\n",
    "def foo(a, b, *args, **kwargs):\n",
    "    if a > b:\n",
    "        return\n",
    "    return foo1(a, b, *args, **kwargs)"
   ]
  },
  {
   "cell_type": "markdown",
   "metadata": {},
   "source": [
    "# Tabelas em memória: listas de diciionários"
   ]
  },
  {
   "cell_type": "code",
   "execution_count": 12,
   "metadata": {},
   "outputs": [],
   "source": [
    "funcionarios = [\n",
    "    {\n",
    "        \"nome\": \"João\",\n",
    "        \"idade\": 25,\n",
    "        \"sexo\": \"M\",\n",
    "        \"salario\": 1000,\n",
    "        \"cargo\": \"Analista\",\n",
    "        \"departamento\": \"TI\",\n",
    "        \"empresa\": \"ABC\",\n",
    "    },\n",
    "    {\n",
    "        \"nome\": \"Maria\",\n",
    "        \"idade\": 30,\n",
    "        \"sexo\": \"F\",\n",
    "        \"salario\": 2000,\n",
    "        \"cargo\": \"Gerente\",\n",
    "        \"departamento\": \"TI\",\n",
    "        \"empresa\": \"ABC\",\n",
    "    },\n",
    "    {\n",
    "        \"nome\": \"José\",\n",
    "        \"idade\": 35,\n",
    "        \"sexo\": \"M\",\n",
    "        \"salario\": 3000,\n",
    "        \"cargo\": \"Diretor\",\n",
    "        \"departamento\": \"TI\",\n",
    "        \"empresa\": \"ABC\",\n",
    "    },\n",
    "    {\n",
    "        \"nome\": \"Ana\",\n",
    "        \"idade\": 40,\n",
    "        \"sexo\": \"F\",\n",
    "        \"salario\": 4000,\n",
    "        \"cargo\": \"Diretor\",\n",
    "        \"departamento\": \"TI\",\n",
    "        \"empresa\": \"ABC\",\n",
    "    },\n",
    "    {\n",
    "        \"nome\": \"Pedro\",\n",
    "        \"idade\": 45,\n",
    "        \"sexo\": \"M\",\n",
    "        \"salario\": 5000,\n",
    "        \"cargo\": \"Diretor\",\n",
    "        \"departamento\": \"TI\",\n",
    "        \"empresa\": \"ABC\",\n",
    "    },\n",
    "    {\n",
    "        \"nome\": \"Paula\",\n",
    "        \"idade\": 50,\n",
    "        \"sexo\": \"F\",\n",
    "        \"salario\": 6000,\n",
    "        \"cargo\": \"Diretor\",\n",
    "        \"departamento\": \"TI\",\n",
    "        \"empresa\": \"ABC\",\n",
    "    },\n",
    "    {\n",
    "        \"nome\": \"Carlos\",\n",
    "        \"idade\": 55,\n",
    "        \"sexo\": \"M\",\n",
    "        \"salario\": 7000,\n",
    "        \"cargo\": \"Diretor\",\n",
    "        \"departamento\": \"TI\",\n",
    "        \"empresa\": \"ABC\",\n",
    "    },\n",
    "    {\n",
    "        \"nome\": \"Carla\",\n",
    "        \"idade\": 60,\n",
    "        \"sexo\": \"F\",\n",
    "        \"salario\": 8000,\n",
    "        \"cargo\": \"Diretor\",\n",
    "        \"departamento\": \"TI\",\n",
    "        \"empresa\": \"ABC\",\n",
    "    },\n",
    "    {\n",
    "        \"nome\": \"Fernando\",\n",
    "        \"idade\": 65,\n",
    "        \"sexo\": \"M\",\n",
    "        \"salario\": 9000,\n",
    "        \"cargo\": \"Diretor\",\n",
    "        \"departamento\": \"TI\",\n",
    "        \"empresa\": \"ABC\",\n",
    "    },\n",
    "    {\n",
    "        \"nome\": \"Fernanda\",\n",
    "        \"idade\": 70,\n",
    "        \"sexo\": \"F\",\n",
    "        \"salario\": 10000,\n",
    "        \"cargo\": \"Diretor\",\n",
    "        \"departamento\": \"TI\",\n",
    "        \"empresa\": \"ABC\",\n",
    "    },\n",
    "    {\n",
    "        \"nome\": \"Ricardo\",\n",
    "        \"idade\": 75,\n",
    "        \"sexo\": \"M\",\n",
    "        \"salario\": 11000,\n",
    "        \"cargo\": \"Diretor\",\n",
    "        \"departamento\": \"TI\",\n",
    "        \"empresa\": \"ABC\",\n",
    "    },\n",
    "    {\n",
    "        \"nome\": \"Ricarda\",\n",
    "        \"idade\": 80,\n",
    "        \"sexo\": \"F\",\n",
    "        \"salario\": 12000,\n",
    "        \"cargo\": \"Diretor\",\n",
    "        \"departamento\": \"TI\",\n",
    "        \"empresa\": \"ABC\",\n",
    "    },\n",
    "]"
   ]
  },
  {
   "cell_type": "code",
   "execution_count": 16,
   "metadata": {},
   "outputs": [
    {
     "data": {
      "text/plain": [
       "11000"
      ]
     },
     "execution_count": 16,
     "metadata": {},
     "output_type": "execute_result"
    }
   ],
   "source": [
    "# Buscar o salário do funcionário chamado Ricardo\n",
    "def busca_funcionario_por_nome(nome: str):\n",
    "    for i, f in enumerate(funcionarios):\n",
    "        if f[\"nome\"] == nome:\n",
    "            return i\n",
    "\n",
    "\n",
    "def busca_salario_funcionario(nome: str):\n",
    "    i = busca_funcionario_por_nome(nome)\n",
    "    return funcionarios[i][\"salario\"]\n",
    "\n",
    "\n",
    "nome = \"Ricardo\"\n",
    "busca_salario_funcionario(nome)"
   ]
  },
  {
   "cell_type": "code",
   "execution_count": 22,
   "metadata": {},
   "outputs": [
    {
     "data": {
      "text/plain": [
       "[1000]"
      ]
     },
     "execution_count": 22,
     "metadata": {},
     "output_type": "execute_result"
    }
   ],
   "source": [
    "def busca_funcionario(key, value) -> list[int]:\n",
    "    return [i for i, f in enumerate(funcionarios) if f.get(key) == value]\n",
    "\n",
    "\n",
    "def busca_salario_funcionario(key, value) -> list[dict]:\n",
    "    # if i := busca_funcionario(key, value):  # errada, pois o índice 0 gera um falso negativo\n",
    "    # if (i := busca_funcionario(key, value)) is not None:  # caso anterior, que retornava apenas um índice\n",
    "    registros = []\n",
    "    if posicoes := busca_funcionario(key, value):\n",
    "        for i in posicoes:\n",
    "            registros.append(funcionarios[i].get(\"salario\"))\n",
    "    return registros\n",
    "\n",
    "\n",
    "busca_salario_funcionario(\"nome\", \"João\")"
   ]
  },
  {
   "cell_type": "code",
   "execution_count": 24,
   "metadata": {},
   "outputs": [
    {
     "data": {
      "text/plain": [
       "7500.0"
      ]
     },
     "execution_count": 24,
     "metadata": {},
     "output_type": "execute_result"
    }
   ],
   "source": [
    "results = busca_salario_funcionario(\"cargo\", \"Diretor\")\n",
    "sum(results)/len(results)"
   ]
  }
 ],
 "metadata": {
  "kernelspec": {
   "display_name": ".venv",
   "language": "python",
   "name": "python3"
  },
  "language_info": {
   "codemirror_mode": {
    "name": "ipython",
    "version": 3
   },
   "file_extension": ".py",
   "mimetype": "text/x-python",
   "name": "python",
   "nbconvert_exporter": "python",
   "pygments_lexer": "ipython3",
   "version": "3.11.9"
  }
 },
 "nbformat": 4,
 "nbformat_minor": 2
}
