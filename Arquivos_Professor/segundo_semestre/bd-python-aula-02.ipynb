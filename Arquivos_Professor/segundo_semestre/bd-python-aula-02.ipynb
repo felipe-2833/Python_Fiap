{
 "cells": [
  {
   "cell_type": "code",
   "execution_count": 1,
   "metadata": {},
   "outputs": [],
   "source": [
    "import sqlite3"
   ]
  },
  {
   "cell_type": "code",
   "execution_count": 2,
   "metadata": {},
   "outputs": [],
   "source": [
    "con = sqlite3.connect(\"banco.db\")"
   ]
  },
  {
   "cell_type": "code",
   "execution_count": 3,
   "metadata": {},
   "outputs": [],
   "source": [
    "cur = con.cursor()"
   ]
  },
  {
   "cell_type": "code",
   "execution_count": 4,
   "metadata": {},
   "outputs": [],
   "source": [
    "# result = cur.execute(\"SELECT name FROM sqlite_master\")\n",
    "# exists = any(\"movie\" in record for record in result)"
   ]
  },
  {
   "cell_type": "code",
   "execution_count": 4,
   "metadata": {},
   "outputs": [
    {
     "data": {
      "text/plain": [
       "<sqlite3.Cursor at 0x7f4905ee4d40>"
      ]
     },
     "execution_count": 4,
     "metadata": {},
     "output_type": "execute_result"
    }
   ],
   "source": [
    "# if not exists:\n",
    "#     cur.execute(\"CREATE TABLE movie(title, year, score)\")\n",
    "cur.execute(\"CREATE TABLE IF NOT EXISTS movie(title, year, score)\")"
   ]
  },
  {
   "cell_type": "code",
   "execution_count": 5,
   "metadata": {},
   "outputs": [
    {
     "data": {
      "text/plain": [
       "[('movie',)]"
      ]
     },
     "execution_count": 5,
     "metadata": {},
     "output_type": "execute_result"
    }
   ],
   "source": [
    "res = cur.execute(\"SELECT name FROM sqlite_master\")\n",
    "# res.fetchone()\n",
    "res.fetchall()"
   ]
  },
  {
   "cell_type": "code",
   "execution_count": 6,
   "metadata": {},
   "outputs": [
    {
     "data": {
      "text/plain": [
       "<sqlite3.Cursor at 0x7f4905ee4d40>"
      ]
     },
     "execution_count": 6,
     "metadata": {},
     "output_type": "execute_result"
    }
   ],
   "source": [
    "cur.execute(\n",
    "    \"\"\"\n",
    "INSERT INTO movie(title, year, score)\n",
    "VALUES ('The Shawshank Redemption', 1994, 9.3)\n",
    "            \"\"\"\n",
    ")"
   ]
  },
  {
   "cell_type": "code",
   "execution_count": 7,
   "metadata": {},
   "outputs": [
    {
     "data": {
      "text/plain": [
       "[('The Shawshank Redemption', 1994, 9.3)]"
      ]
     },
     "execution_count": 7,
     "metadata": {},
     "output_type": "execute_result"
    }
   ],
   "source": [
    "cur.execute(\"SELECT * from movie\").fetchall()"
   ]
  },
  {
   "cell_type": "code",
   "execution_count": 8,
   "metadata": {},
   "outputs": [],
   "source": [
    "con.commit()"
   ]
  },
  {
   "cell_type": "code",
   "execution_count": 9,
   "metadata": {},
   "outputs": [
    {
     "data": {
      "text/plain": [
       "[('The Shawshank Redemption', 1994, 9.3)]"
      ]
     },
     "execution_count": 9,
     "metadata": {},
     "output_type": "execute_result"
    }
   ],
   "source": [
    "result = cur.execute(\"SELECT * FROM movie\")\n",
    "result.fetchall()"
   ]
  },
  {
   "cell_type": "code",
   "execution_count": 10,
   "metadata": {},
   "outputs": [],
   "source": [
    "cur.execute(\n",
    "    \"\"\"\n",
    "    INSERT INTO movie VALUES\n",
    "        ('Monty Python and the Holy Grail', 1975, 8.2),\n",
    "        ('And Now for Something Completely Different', 1971, 7.5)\n",
    "\"\"\"\n",
    ")\n",
    "con.commit()"
   ]
  },
  {
   "cell_type": "code",
   "execution_count": 11,
   "metadata": {},
   "outputs": [
    {
     "data": {
      "text/plain": [
       "[('The Shawshank Redemption', 1994, 9.3),\n",
       " ('Monty Python and the Holy Grail', 1975, 8.2),\n",
       " ('And Now for Something Completely Different', 1971, 7.5)]"
      ]
     },
     "execution_count": 11,
     "metadata": {},
     "output_type": "execute_result"
    }
   ],
   "source": [
    "result = cur.execute(\"SELECT * FROM movie\")\n",
    "result.fetchall()"
   ]
  },
  {
   "cell_type": "code",
   "execution_count": 12,
   "metadata": {},
   "outputs": [],
   "source": [
    "data = [\n",
    "    (\"Monty Python Live at the Hollywood Bowl\", 1982, 7.9),\n",
    "    (\"Monty Python's The Meaning of Life\", 1983, 7.5),\n",
    "    (\"Monty Python's Life of Brian\", 1979, 8.0),\n",
    "]\n",
    "cur.executemany(\"INSERT INTO movie VALUES(?, ?, ?)\", data)\n",
    "con.commit()"
   ]
  },
  {
   "cell_type": "code",
   "execution_count": 13,
   "metadata": {},
   "outputs": [
    {
     "data": {
      "text/plain": [
       "[('The Shawshank Redemption', 1994, 9.3),\n",
       " ('Monty Python and the Holy Grail', 1975, 8.2),\n",
       " ('And Now for Something Completely Different', 1971, 7.5),\n",
       " ('Monty Python Live at the Hollywood Bowl', 1982, 7.9),\n",
       " (\"Monty Python's The Meaning of Life\", 1983, 7.5),\n",
       " (\"Monty Python's Life of Brian\", 1979, 8.0)]"
      ]
     },
     "execution_count": 13,
     "metadata": {},
     "output_type": "execute_result"
    }
   ],
   "source": [
    "result = cur.execute(\"SELECT * FROM movie\")\n",
    "result.fetchall()"
   ]
  },
  {
   "cell_type": "code",
   "execution_count": 14,
   "metadata": {},
   "outputs": [
    {
     "data": {
      "text/plain": [
       "[('The Shawshank Redemption', 1994, 9.3),\n",
       " ('Monty Python and the Holy Grail', 1975, 8.2)]"
      ]
     },
     "execution_count": 14,
     "metadata": {},
     "output_type": "execute_result"
    }
   ],
   "source": [
    "# recuperando todos os dados com score maior que 8\n",
    "target = 8.0\n",
    "records = []\n",
    "for result in cur.execute(\"SELECT * FROM movie\"):\n",
    "    if result[-1] > target:\n",
    "        records.append(result)\n",
    "\n",
    "records"
   ]
  },
  {
   "cell_type": "code",
   "execution_count": 15,
   "metadata": {},
   "outputs": [
    {
     "data": {
      "text/plain": [
       "[('The Shawshank Redemption', 1994, 9.3),\n",
       " ('Monty Python and the Holy Grail', 1975, 8.2)]"
      ]
     },
     "execution_count": 15,
     "metadata": {},
     "output_type": "execute_result"
    }
   ],
   "source": [
    "result = cur.execute(\"SELECT * FROM movie WHERE score > 8.0\")\n",
    "result.fetchall()"
   ]
  },
  {
   "cell_type": "code",
   "execution_count": 16,
   "metadata": {},
   "outputs": [
    {
     "data": {
      "text/plain": [
       "<sqlite3.Cursor at 0x7f4905ee4d40>"
      ]
     },
     "execution_count": 16,
     "metadata": {},
     "output_type": "execute_result"
    }
   ],
   "source": [
    "cur.execute(\"UPDATE movie SET score = 9.0 WHERE title = 'The Shawshank Redemption'\")"
   ]
  },
  {
   "cell_type": "code",
   "execution_count": 17,
   "metadata": {},
   "outputs": [],
   "source": [
    "con.commit()"
   ]
  },
  {
   "cell_type": "code",
   "execution_count": 18,
   "metadata": {},
   "outputs": [
    {
     "data": {
      "text/plain": [
       "[('The Shawshank Redemption', 1994, 9.0)]"
      ]
     },
     "execution_count": 18,
     "metadata": {},
     "output_type": "execute_result"
    }
   ],
   "source": [
    "cur.execute(\"SELECT * FROM movie WHERE title = 'The Shawshank Redemption'\").fetchall()"
   ]
  },
  {
   "cell_type": "code",
   "execution_count": 19,
   "metadata": {},
   "outputs": [],
   "source": [
    "con.close()"
   ]
  },
  {
   "cell_type": "code",
   "execution_count": 20,
   "metadata": {},
   "outputs": [
    {
     "ename": "ProgrammingError",
     "evalue": "Cannot operate on a closed database.",
     "output_type": "error",
     "traceback": [
      "\u001b[0;31m---------------------------------------------------------------------------\u001b[0m",
      "\u001b[0;31mProgrammingError\u001b[0m                          Traceback (most recent call last)",
      "Cell \u001b[0;32mIn[20], line 1\u001b[0m\n\u001b[0;32m----> 1\u001b[0m \u001b[43mcur\u001b[49m\u001b[38;5;241;43m.\u001b[39;49m\u001b[43mexecute\u001b[49m\u001b[43m(\u001b[49m\u001b[38;5;124;43m\"\u001b[39;49m\u001b[38;5;124;43mSELECT * FROM movie\u001b[39;49m\u001b[38;5;124;43m\"\u001b[39;49m\u001b[43m)\u001b[49m\u001b[38;5;241m.\u001b[39mfetchall()\n",
      "\u001b[0;31mProgrammingError\u001b[0m: Cannot operate on a closed database."
     ]
    }
   ],
   "source": [
    "# É esperado que tenhamos um erro, pois a conexão foi interrompida.\n",
    "cur.execute(\"SELECT * FROM movie\").fetchall()"
   ]
  },
  {
   "cell_type": "markdown",
   "metadata": {},
   "source": [
    "# Utilizando o pandas para trabalhar com o banco de dados"
   ]
  },
  {
   "cell_type": "code",
   "execution_count": 21,
   "metadata": {},
   "outputs": [],
   "source": [
    "import pandas as pd"
   ]
  },
  {
   "cell_type": "code",
   "execution_count": 38,
   "metadata": {},
   "outputs": [
    {
     "data": {
      "text/html": [
       "<div>\n",
       "<style scoped>\n",
       "    .dataframe tbody tr th:only-of-type {\n",
       "        vertical-align: middle;\n",
       "    }\n",
       "\n",
       "    .dataframe tbody tr th {\n",
       "        vertical-align: top;\n",
       "    }\n",
       "\n",
       "    .dataframe thead th {\n",
       "        text-align: right;\n",
       "    }\n",
       "</style>\n",
       "<table border=\"1\" class=\"dataframe\">\n",
       "  <thead>\n",
       "    <tr style=\"text-align: right;\">\n",
       "      <th></th>\n",
       "      <th>Report Received Date</th>\n",
       "      <th>Manufacturer</th>\n",
       "      <th>Component</th>\n",
       "      <th>Recall Type</th>\n",
       "      <th>Potentially Affected</th>\n",
       "    </tr>\n",
       "  </thead>\n",
       "  <tbody>\n",
       "    <tr>\n",
       "      <th>0</th>\n",
       "      <td>01/06/2023</td>\n",
       "      <td>Triple E Recreational Vehicles</td>\n",
       "      <td>ELECTRICAL SYSTEM</td>\n",
       "      <td>Vehicle</td>\n",
       "      <td>341</td>\n",
       "    </tr>\n",
       "    <tr>\n",
       "      <th>1</th>\n",
       "      <td>01/05/2023</td>\n",
       "      <td>Volvo Car USA, LLC</td>\n",
       "      <td>STEERING</td>\n",
       "      <td>Vehicle</td>\n",
       "      <td>74</td>\n",
       "    </tr>\n",
       "    <tr>\n",
       "      <th>2</th>\n",
       "      <td>12/29/2022</td>\n",
       "      <td>Volkswagen Group of America, Inc.</td>\n",
       "      <td>ELECTRICAL SYSTEM</td>\n",
       "      <td>Vehicle</td>\n",
       "      <td>1042</td>\n",
       "    </tr>\n",
       "    <tr>\n",
       "      <th>3</th>\n",
       "      <td>12/29/2022</td>\n",
       "      <td>Indian Motorcycle Company</td>\n",
       "      <td>STRUCTURE</td>\n",
       "      <td>Vehicle</td>\n",
       "      <td>4653</td>\n",
       "    </tr>\n",
       "    <tr>\n",
       "      <th>4</th>\n",
       "      <td>12/29/2022</td>\n",
       "      <td>Hendrickson USA. L.L.C.</td>\n",
       "      <td>SERVICE BRAKES, AIR</td>\n",
       "      <td>Equipment</td>\n",
       "      <td>12</td>\n",
       "    </tr>\n",
       "  </tbody>\n",
       "</table>\n",
       "</div>"
      ],
      "text/plain": [
       "  Report Received Date                       Manufacturer  \\\n",
       "0           01/06/2023     Triple E Recreational Vehicles   \n",
       "1           01/05/2023                 Volvo Car USA, LLC   \n",
       "2           12/29/2022  Volkswagen Group of America, Inc.   \n",
       "3           12/29/2022          Indian Motorcycle Company   \n",
       "4           12/29/2022            Hendrickson USA. L.L.C.   \n",
       "\n",
       "             Component Recall Type  Potentially Affected  \n",
       "0    ELECTRICAL SYSTEM     Vehicle                   341  \n",
       "1             STEERING     Vehicle                    74  \n",
       "2    ELECTRICAL SYSTEM     Vehicle                  1042  \n",
       "3            STRUCTURE     Vehicle                  4653  \n",
       "4  SERVICE BRAKES, AIR   Equipment                    12  "
      ]
     },
     "execution_count": 38,
     "metadata": {},
     "output_type": "execute_result"
    }
   ],
   "source": [
    "bd_carros = pd.read_csv(\"bd.csv\")  # , parse_dates=[\"Report Received Date\"])\n",
    "bd_carros[\"Potentially Affected\"] = (\n",
    "    bd_carros[\"Potentially Affected\"].fillna(0).astype(\"int\")\n",
    ")\n",
    "bd_carros.head()"
   ]
  },
  {
   "cell_type": "code",
   "execution_count": 43,
   "metadata": {},
   "outputs": [],
   "source": [
    "bd_carros.columns = [r.lower().replace(\" \", \"_\") for r in bd_carros.columns]"
   ]
  },
  {
   "cell_type": "code",
   "execution_count": 44,
   "metadata": {},
   "outputs": [
    {
     "data": {
      "text/html": [
       "<div>\n",
       "<style scoped>\n",
       "    .dataframe tbody tr th:only-of-type {\n",
       "        vertical-align: middle;\n",
       "    }\n",
       "\n",
       "    .dataframe tbody tr th {\n",
       "        vertical-align: top;\n",
       "    }\n",
       "\n",
       "    .dataframe thead th {\n",
       "        text-align: right;\n",
       "    }\n",
       "</style>\n",
       "<table border=\"1\" class=\"dataframe\">\n",
       "  <thead>\n",
       "    <tr style=\"text-align: right;\">\n",
       "      <th></th>\n",
       "      <th>report_received_date</th>\n",
       "      <th>manufacturer</th>\n",
       "      <th>component</th>\n",
       "      <th>recall_type</th>\n",
       "      <th>potentially_affected</th>\n",
       "    </tr>\n",
       "  </thead>\n",
       "  <tbody>\n",
       "    <tr>\n",
       "      <th>0</th>\n",
       "      <td>01/06/2023</td>\n",
       "      <td>Triple E Recreational Vehicles</td>\n",
       "      <td>ELECTRICAL SYSTEM</td>\n",
       "      <td>Vehicle</td>\n",
       "      <td>341</td>\n",
       "    </tr>\n",
       "    <tr>\n",
       "      <th>1</th>\n",
       "      <td>01/05/2023</td>\n",
       "      <td>Volvo Car USA, LLC</td>\n",
       "      <td>STEERING</td>\n",
       "      <td>Vehicle</td>\n",
       "      <td>74</td>\n",
       "    </tr>\n",
       "    <tr>\n",
       "      <th>2</th>\n",
       "      <td>12/29/2022</td>\n",
       "      <td>Volkswagen Group of America, Inc.</td>\n",
       "      <td>ELECTRICAL SYSTEM</td>\n",
       "      <td>Vehicle</td>\n",
       "      <td>1042</td>\n",
       "    </tr>\n",
       "    <tr>\n",
       "      <th>3</th>\n",
       "      <td>12/29/2022</td>\n",
       "      <td>Indian Motorcycle Company</td>\n",
       "      <td>STRUCTURE</td>\n",
       "      <td>Vehicle</td>\n",
       "      <td>4653</td>\n",
       "    </tr>\n",
       "    <tr>\n",
       "      <th>4</th>\n",
       "      <td>12/29/2022</td>\n",
       "      <td>Hendrickson USA. L.L.C.</td>\n",
       "      <td>SERVICE BRAKES, AIR</td>\n",
       "      <td>Equipment</td>\n",
       "      <td>12</td>\n",
       "    </tr>\n",
       "  </tbody>\n",
       "</table>\n",
       "</div>"
      ],
      "text/plain": [
       "  report_received_date                       manufacturer  \\\n",
       "0           01/06/2023     Triple E Recreational Vehicles   \n",
       "1           01/05/2023                 Volvo Car USA, LLC   \n",
       "2           12/29/2022  Volkswagen Group of America, Inc.   \n",
       "3           12/29/2022          Indian Motorcycle Company   \n",
       "4           12/29/2022            Hendrickson USA. L.L.C.   \n",
       "\n",
       "             component recall_type  potentially_affected  \n",
       "0    ELECTRICAL SYSTEM     Vehicle                   341  \n",
       "1             STEERING     Vehicle                    74  \n",
       "2    ELECTRICAL SYSTEM     Vehicle                  1042  \n",
       "3            STRUCTURE     Vehicle                  4653  \n",
       "4  SERVICE BRAKES, AIR   Equipment                    12  "
      ]
     },
     "execution_count": 44,
     "metadata": {},
     "output_type": "execute_result"
    }
   ],
   "source": [
    "bd_carros.head()"
   ]
  },
  {
   "cell_type": "code",
   "execution_count": 39,
   "metadata": {},
   "outputs": [
    {
     "name": "stdout",
     "output_type": "stream",
     "text": [
      "<class 'pandas.core.frame.DataFrame'>\n",
      "RangeIndex: 26590 entries, 0 to 26589\n",
      "Data columns (total 5 columns):\n",
      " #   Column                Non-Null Count  Dtype \n",
      "---  ------                --------------  ----- \n",
      " 0   Report Received Date  26590 non-null  object\n",
      " 1   Manufacturer          26590 non-null  object\n",
      " 2   Component             26590 non-null  object\n",
      " 3   Recall Type           26590 non-null  object\n",
      " 4   Potentially Affected  26590 non-null  int64 \n",
      "dtypes: int64(1), object(4)\n",
      "memory usage: 1.0+ MB\n"
     ]
    }
   ],
   "source": [
    "bd_carros.info()"
   ]
  },
  {
   "cell_type": "code",
   "execution_count": 49,
   "metadata": {},
   "outputs": [],
   "source": [
    "con = sqlite3.connect(\"banco.db\")\n",
    "cur = con.cursor()"
   ]
  },
  {
   "cell_type": "code",
   "execution_count": 50,
   "metadata": {},
   "outputs": [],
   "source": [
    "cur.execute(\n",
    "    \"\"\"\n",
    "    CREATE TABLE IF NOT EXISTS cars(\n",
    "        report_received_date,\n",
    "        manufacturer,\n",
    "        component,\n",
    "        recall_type,\n",
    "        potentially_affected\n",
    "        )\n",
    "    \"\"\"\n",
    ")\n",
    "data = bd_carros.head().to_records(index=False).tolist()\n",
    "cur.executemany(\n",
    "    \"\"\"\n",
    "    INSERT INTO cars VALUES(?, ?, ?, ?, ?)\n",
    "    \"\"\",\n",
    "    data,\n",
    ")\n",
    "con.commit()"
   ]
  },
  {
   "cell_type": "code",
   "execution_count": 53,
   "metadata": {},
   "outputs": [],
   "source": [
    "bd_carros.report_received_date = bd_carros.report_received_date.apply(pd.to_datetime)"
   ]
  },
  {
   "cell_type": "code",
   "execution_count": 54,
   "metadata": {},
   "outputs": [
    {
     "data": {
      "text/plain": [
       "26590"
      ]
     },
     "execution_count": 54,
     "metadata": {},
     "output_type": "execute_result"
    }
   ],
   "source": [
    "bd_carros.to_sql(\"cars2\", con, index=False)"
   ]
  },
  {
   "cell_type": "code",
   "execution_count": 55,
   "metadata": {},
   "outputs": [
    {
     "data": {
      "text/plain": [
       "(26590, 5)"
      ]
     },
     "execution_count": 55,
     "metadata": {},
     "output_type": "execute_result"
    }
   ],
   "source": [
    "bd_carros.shape"
   ]
  },
  {
   "cell_type": "code",
   "execution_count": 58,
   "metadata": {},
   "outputs": [
    {
     "data": {
      "text/html": [
       "<div>\n",
       "<style scoped>\n",
       "    .dataframe tbody tr th:only-of-type {\n",
       "        vertical-align: middle;\n",
       "    }\n",
       "\n",
       "    .dataframe tbody tr th {\n",
       "        vertical-align: top;\n",
       "    }\n",
       "\n",
       "    .dataframe thead th {\n",
       "        text-align: right;\n",
       "    }\n",
       "</style>\n",
       "<table border=\"1\" class=\"dataframe\">\n",
       "  <thead>\n",
       "    <tr style=\"text-align: right;\">\n",
       "      <th></th>\n",
       "      <th>report_received_date</th>\n",
       "      <th>manufacturer</th>\n",
       "      <th>component</th>\n",
       "      <th>recall_type</th>\n",
       "      <th>potentially_affected</th>\n",
       "    </tr>\n",
       "  </thead>\n",
       "  <tbody>\n",
       "    <tr>\n",
       "      <th>0</th>\n",
       "      <td>2022-12-23 00:00:00</td>\n",
       "      <td>WARN Industries, Inc.</td>\n",
       "      <td>ELECTRICAL SYSTEM</td>\n",
       "      <td>Equipment</td>\n",
       "      <td>121187</td>\n",
       "    </tr>\n",
       "    <tr>\n",
       "      <th>1</th>\n",
       "      <td>2022-12-23 00:00:00</td>\n",
       "      <td>Mercedes-Benz USA, LLC</td>\n",
       "      <td>FUEL SYSTEM, DIESEL</td>\n",
       "      <td>Vehicle</td>\n",
       "      <td>323963</td>\n",
       "    </tr>\n",
       "    <tr>\n",
       "      <th>2</th>\n",
       "      <td>2022-12-23 00:00:00</td>\n",
       "      <td>Ford Motor Company</td>\n",
       "      <td>SEAT BELTS</td>\n",
       "      <td>Vehicle</td>\n",
       "      <td>101001</td>\n",
       "    </tr>\n",
       "    <tr>\n",
       "      <th>3</th>\n",
       "      <td>2022-12-23 00:00:00</td>\n",
       "      <td>Mercedes-Benz USA, LLC</td>\n",
       "      <td>VISIBILITY</td>\n",
       "      <td>Vehicle</td>\n",
       "      <td>123696</td>\n",
       "    </tr>\n",
       "    <tr>\n",
       "      <th>4</th>\n",
       "      <td>2022-12-21 00:00:00</td>\n",
       "      <td>Volkswagen Group of America, Inc.</td>\n",
       "      <td>AIR BAGS</td>\n",
       "      <td>Vehicle</td>\n",
       "      <td>37558</td>\n",
       "    </tr>\n",
       "    <tr>\n",
       "      <th>...</th>\n",
       "      <td>...</td>\n",
       "      <td>...</td>\n",
       "      <td>...</td>\n",
       "      <td>...</td>\n",
       "      <td>...</td>\n",
       "    </tr>\n",
       "    <tr>\n",
       "      <th>4216</th>\n",
       "      <td>1966-10-10 00:00:00</td>\n",
       "      <td>Volkswagen Group of America, Inc.</td>\n",
       "      <td>SERVICE BRAKES, HYDRAULIC</td>\n",
       "      <td>Vehicle</td>\n",
       "      <td>64596</td>\n",
       "    </tr>\n",
       "    <tr>\n",
       "      <th>4217</th>\n",
       "      <td>1966-10-06 00:00:00</td>\n",
       "      <td>Ford Motor Company</td>\n",
       "      <td>SEAT BELTS</td>\n",
       "      <td>Vehicle</td>\n",
       "      <td>65000</td>\n",
       "    </tr>\n",
       "    <tr>\n",
       "      <th>4218</th>\n",
       "      <td>1966-01-19 00:00:00</td>\n",
       "      <td>General Motors, LLC</td>\n",
       "      <td>STEERING</td>\n",
       "      <td>Vehicle</td>\n",
       "      <td>138878</td>\n",
       "    </tr>\n",
       "    <tr>\n",
       "      <th>4219</th>\n",
       "      <td>1966-01-19 00:00:00</td>\n",
       "      <td>General Motors, LLC</td>\n",
       "      <td>STEERING</td>\n",
       "      <td>Vehicle</td>\n",
       "      <td>70644</td>\n",
       "    </tr>\n",
       "    <tr>\n",
       "      <th>4220</th>\n",
       "      <td>1966-01-19 00:00:00</td>\n",
       "      <td>General Motors, LLC</td>\n",
       "      <td>STEERING</td>\n",
       "      <td>Vehicle</td>\n",
       "      <td>68184</td>\n",
       "    </tr>\n",
       "  </tbody>\n",
       "</table>\n",
       "<p>4221 rows × 5 columns</p>\n",
       "</div>"
      ],
      "text/plain": [
       "     report_received_date                       manufacturer  \\\n",
       "0     2022-12-23 00:00:00              WARN Industries, Inc.   \n",
       "1     2022-12-23 00:00:00             Mercedes-Benz USA, LLC   \n",
       "2     2022-12-23 00:00:00                 Ford Motor Company   \n",
       "3     2022-12-23 00:00:00             Mercedes-Benz USA, LLC   \n",
       "4     2022-12-21 00:00:00  Volkswagen Group of America, Inc.   \n",
       "...                   ...                                ...   \n",
       "4216  1966-10-10 00:00:00  Volkswagen Group of America, Inc.   \n",
       "4217  1966-10-06 00:00:00                 Ford Motor Company   \n",
       "4218  1966-01-19 00:00:00                General Motors, LLC   \n",
       "4219  1966-01-19 00:00:00                General Motors, LLC   \n",
       "4220  1966-01-19 00:00:00                General Motors, LLC   \n",
       "\n",
       "                      component recall_type  potentially_affected  \n",
       "0             ELECTRICAL SYSTEM   Equipment                121187  \n",
       "1           FUEL SYSTEM, DIESEL     Vehicle                323963  \n",
       "2                    SEAT BELTS     Vehicle                101001  \n",
       "3                    VISIBILITY     Vehicle                123696  \n",
       "4                      AIR BAGS     Vehicle                 37558  \n",
       "...                         ...         ...                   ...  \n",
       "4216  SERVICE BRAKES, HYDRAULIC     Vehicle                 64596  \n",
       "4217                 SEAT BELTS     Vehicle                 65000  \n",
       "4218                   STEERING     Vehicle                138878  \n",
       "4219                   STEERING     Vehicle                 70644  \n",
       "4220                   STEERING     Vehicle                 68184  \n",
       "\n",
       "[4221 rows x 5 columns]"
      ]
     },
     "execution_count": 58,
     "metadata": {},
     "output_type": "execute_result"
    }
   ],
   "source": [
    "pd.read_sql(\n",
    "    \"\"\"\n",
    "    SELECT *\n",
    "    FROM cars2\n",
    "    WHERE potentially_affected >= 20000\n",
    "    \"\"\",\n",
    "    con,\n",
    ")"
   ]
  }
 ],
 "metadata": {
  "kernelspec": {
   "display_name": ".venv",
   "language": "python",
   "name": "python3"
  },
  "language_info": {
   "codemirror_mode": {
    "name": "ipython",
    "version": 3
   },
   "file_extension": ".py",
   "mimetype": "text/x-python",
   "name": "python",
   "nbconvert_exporter": "python",
   "pygments_lexer": "ipython3",
   "version": "3.11.10"
  }
 },
 "nbformat": 4,
 "nbformat_minor": 2
}
