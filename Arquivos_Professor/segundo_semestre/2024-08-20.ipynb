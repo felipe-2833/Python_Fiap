{
 "cells": [
  {
   "cell_type": "markdown",
   "metadata": {},
   "source": [
    "# Try / Except / Else / Finally"
   ]
  },
  {
   "cell_type": "code",
   "execution_count": 4,
   "metadata": {},
   "outputs": [
    {
     "data": {
      "text/plain": [
       "1.0"
      ]
     },
     "execution_count": 4,
     "metadata": {},
     "output_type": "execute_result"
    }
   ],
   "source": [
    "# int(\"a\")\n",
    "float(\"1.0\")"
   ]
  },
  {
   "cell_type": "code",
   "execution_count": 5,
   "metadata": {},
   "outputs": [
    {
     "name": "stdout",
     "output_type": "stream",
     "text": [
      "Número menor que 10\n",
      "Número menor que 10\n",
      "Número menor que 10\n"
     ]
    },
    {
     "ename": "ValueError",
     "evalue": "invalid literal for int() with base 10: '5.0'",
     "output_type": "error",
     "traceback": [
      "\u001b[1;31m---------------------------------------------------------------------------\u001b[0m",
      "\u001b[1;31mValueError\u001b[0m                                Traceback (most recent call last)",
      "Cell \u001b[1;32mIn[5], line 2\u001b[0m\n\u001b[0;32m      1\u001b[0m \u001b[38;5;28;01mwhile\u001b[39;00m \u001b[38;5;28;01mTrue\u001b[39;00m:\n\u001b[1;32m----> 2\u001b[0m     entrada \u001b[38;5;241m=\u001b[39m \u001b[38;5;28;43mint\u001b[39;49m\u001b[43m(\u001b[49m\u001b[38;5;28;43minput\u001b[39;49m\u001b[43m(\u001b[49m\u001b[38;5;124;43m\"\u001b[39;49m\u001b[38;5;124;43mDigite um número: \u001b[39;49m\u001b[38;5;124;43m\"\u001b[39;49m\u001b[43m)\u001b[49m\u001b[43m)\u001b[49m\n\u001b[0;32m      3\u001b[0m     \u001b[38;5;28;01mif\u001b[39;00m entrada \u001b[38;5;241m>\u001b[39m \u001b[38;5;241m10\u001b[39m:\n\u001b[0;32m      4\u001b[0m         \u001b[38;5;28mprint\u001b[39m(\u001b[38;5;124m\"\u001b[39m\u001b[38;5;124mNúmero maior que 10\u001b[39m\u001b[38;5;124m\"\u001b[39m)\n",
      "\u001b[1;31mValueError\u001b[0m: invalid literal for int() with base 10: '5.0'"
     ]
    }
   ],
   "source": [
    "while True:\n",
    "    entrada = int(input(\"Digite um número: \"))\n",
    "    if entrada > 10:\n",
    "        print(\"Número maior que 10\")\n",
    "    else:\n",
    "        print(\"Número menor que 10\")"
   ]
  },
  {
   "cell_type": "code",
   "execution_count": 6,
   "metadata": {},
   "outputs": [
    {
     "name": "stdout",
     "output_type": "stream",
     "text": [
      "Número menor que 10\n",
      "Número maior que 10\n",
      "Número maior que 10\n",
      "Você não digitou um número inteiro\n",
      "Número menor que 10\n",
      "Saindo do loop\n"
     ]
    }
   ],
   "source": [
    "while True:\n",
    "    try:\n",
    "        entrada = int(input(\"Digite um número: \"))\n",
    "    except:\n",
    "        print(\"Você não digitou um número inteiro\")\n",
    "        continue\n",
    "    if entrada > 10:\n",
    "        print(\"Número maior que 10\")\n",
    "    else:\n",
    "        print(\"Número menor que 10\")\n",
    "    if entrada == 0:\n",
    "        print(\"Saindo do loop\")\n",
    "        break"
   ]
  },
  {
   "cell_type": "markdown",
   "metadata": {},
   "source": [
    "## Motivação: Média harmônica"
   ]
  },
  {
   "cell_type": "markdown",
   "metadata": {},
   "source": [
    "A equação da média harmônica é dada por:"
   ]
  },
  {
   "cell_type": "markdown",
   "metadata": {},
   "source": [
    "\n",
    "$H = \\frac{n}{\\sum_{i=1}^{n} \\frac{1}{x_i}}$\n"
   ]
  },
  {
   "cell_type": "markdown",
   "metadata": {},
   "source": [
    "Sendo:\n",
    "- $ H $ é a média harmônica\n",
    "- $ n $ é o número total de elementos\n",
    "- $ x_i $ são os valores dos elementos"
   ]
  },
  {
   "cell_type": "markdown",
   "metadata": {},
   "source": [
    "Forma extensa da média harmônica:"
   ]
  },
  {
   "cell_type": "markdown",
   "metadata": {},
   "source": [
    "$ H = \\frac{n}{\\frac{1}{x_1} + \\frac{1}{x_2} + \\frac{1}{x_3} + ... + \\frac{1}{x_n}} $"
   ]
  },
  {
   "cell_type": "code",
   "execution_count": 15,
   "metadata": {},
   "outputs": [
    {
     "name": "stdout",
     "output_type": "stream",
     "text": [
      "2.18978102189781\n",
      "Erro durante a divisão\n",
      "0\n",
      "Erro durante a divisão\n",
      "0\n",
      "Erro durante a divisão\n",
      "0\n"
     ]
    }
   ],
   "source": [
    "# solução\n",
    "def media_harmonica(x: list[int, float]) -> float:\n",
    "    try:\n",
    "        n = len(x)\n",
    "        denominador = 0\n",
    "        for xi in x:\n",
    "            denominador += 1 / xi\n",
    "        return n / denominador\n",
    "    except:\n",
    "        print(\"Erro durante a divisão\")\n",
    "        return 0\n",
    "\n",
    "\n",
    "values = (\n",
    "    [1, 2, 3, 4, 5],\n",
    "    [1, 2, 3, 4, 5, 0, \"a\"],\n",
    "    [-1, 1],\n",
    "    [],\n",
    ")\n",
    "\n",
    "# for value in values:\n",
    "#     result = media_harmonica(value)\n",
    "#     print(result)\n",
    "\n",
    "for result in map(media_harmonica, values):\n",
    "    print(result)"
   ]
  },
  {
   "cell_type": "code",
   "execution_count": 19,
   "metadata": {},
   "outputs": [],
   "source": [
    "def apply():\n",
    "    values = (\n",
    "        [1, 2, 3, 4, 5],\n",
    "        [1, 2, 3, 4, 5, 0],\n",
    "        [1, 2, 3, 4, 5, \"a\"],\n",
    "        [-1, 1],\n",
    "        [],\n",
    "    )\n",
    "    for result in map(media_harmonica, values):\n",
    "        print(result)"
   ]
  },
  {
   "cell_type": "markdown",
   "metadata": {},
   "source": [
    "Tratando as exceções individualmente"
   ]
  },
  {
   "cell_type": "code",
   "execution_count": 24,
   "metadata": {},
   "outputs": [],
   "source": [
    "class EmptyListError(Exception):\n",
    "    pass"
   ]
  },
  {
   "cell_type": "code",
   "execution_count": 28,
   "metadata": {},
   "outputs": [
    {
     "name": "stdout",
     "output_type": "stream",
     "text": [
      "2.18978102189781\n",
      "Erro de divisão por zero\t division by zero\n",
      "0\n",
      "Erro de tipo\t unsupported operand type(s) for /: 'int' and 'str'\n",
      "0\n",
      "Erro de divisão por zero\t float division by zero\n",
      "0\n"
     ]
    },
    {
     "ename": "EmptyListError",
     "evalue": "",
     "output_type": "error",
     "traceback": [
      "\u001b[1;31m---------------------------------------------------------------------------\u001b[0m",
      "\u001b[1;31mEmptyListError\u001b[0m                            Traceback (most recent call last)",
      "Cell \u001b[1;32mIn[28], line 22\u001b[0m\n\u001b[0;32m     16\u001b[0m         \u001b[38;5;28;01mreturn\u001b[39;00m \u001b[38;5;241m0\u001b[39m\n\u001b[0;32m     17\u001b[0m     \u001b[38;5;66;03m# except EmptyListError as e:\u001b[39;00m\n\u001b[0;32m     18\u001b[0m     \u001b[38;5;66;03m#     print(\"Erro de lista vazia\\t\", e)\u001b[39;00m\n\u001b[0;32m     19\u001b[0m     \u001b[38;5;66;03m#     return 0\u001b[39;00m\n\u001b[1;32m---> 22\u001b[0m \u001b[43mapply\u001b[49m\u001b[43m(\u001b[49m\u001b[43m)\u001b[49m\n",
      "Cell \u001b[1;32mIn[19], line 9\u001b[0m, in \u001b[0;36mapply\u001b[1;34m()\u001b[0m\n\u001b[0;32m      1\u001b[0m \u001b[38;5;28;01mdef\u001b[39;00m \u001b[38;5;21mapply\u001b[39m():\n\u001b[0;32m      2\u001b[0m     values \u001b[38;5;241m=\u001b[39m (\n\u001b[0;32m      3\u001b[0m         [\u001b[38;5;241m1\u001b[39m, \u001b[38;5;241m2\u001b[39m, \u001b[38;5;241m3\u001b[39m, \u001b[38;5;241m4\u001b[39m, \u001b[38;5;241m5\u001b[39m],\n\u001b[0;32m      4\u001b[0m         [\u001b[38;5;241m1\u001b[39m, \u001b[38;5;241m2\u001b[39m, \u001b[38;5;241m3\u001b[39m, \u001b[38;5;241m4\u001b[39m, \u001b[38;5;241m5\u001b[39m, \u001b[38;5;241m0\u001b[39m],\n\u001b[1;32m   (...)\u001b[0m\n\u001b[0;32m      7\u001b[0m         [],\n\u001b[0;32m      8\u001b[0m     )\n\u001b[1;32m----> 9\u001b[0m \u001b[43m    \u001b[49m\u001b[38;5;28;43;01mfor\u001b[39;49;00m\u001b[43m \u001b[49m\u001b[43mresult\u001b[49m\u001b[43m \u001b[49m\u001b[38;5;129;43;01min\u001b[39;49;00m\u001b[43m \u001b[49m\u001b[38;5;28;43mmap\u001b[39;49m\u001b[43m(\u001b[49m\u001b[43mmedia_harmonica\u001b[49m\u001b[43m,\u001b[49m\u001b[43m \u001b[49m\u001b[43mvalues\u001b[49m\u001b[43m)\u001b[49m\u001b[43m:\u001b[49m\n\u001b[0;32m     10\u001b[0m \u001b[43m        \u001b[49m\u001b[38;5;28;43mprint\u001b[39;49m\u001b[43m(\u001b[49m\u001b[43mresult\u001b[49m\u001b[43m)\u001b[49m\n",
      "Cell \u001b[1;32mIn[28], line 6\u001b[0m, in \u001b[0;36mmedia_harmonica\u001b[1;34m(x)\u001b[0m\n\u001b[0;32m      4\u001b[0m n \u001b[38;5;241m=\u001b[39m \u001b[38;5;28mlen\u001b[39m(x)\n\u001b[0;32m      5\u001b[0m \u001b[38;5;28;01mif\u001b[39;00m n \u001b[38;5;241m==\u001b[39m \u001b[38;5;241m0\u001b[39m:\n\u001b[1;32m----> 6\u001b[0m     \u001b[38;5;28;01mraise\u001b[39;00m EmptyListError()\n\u001b[0;32m      7\u001b[0m denominador \u001b[38;5;241m=\u001b[39m \u001b[38;5;241m0\u001b[39m\n\u001b[0;32m      8\u001b[0m \u001b[38;5;28;01mfor\u001b[39;00m xi \u001b[38;5;129;01min\u001b[39;00m x:\n",
      "\u001b[1;31mEmptyListError\u001b[0m: "
     ]
    }
   ],
   "source": [
    "# solução\n",
    "def media_harmonica(x: list[int, float]) -> float:\n",
    "    try:\n",
    "        n = len(x)\n",
    "        if n == 0:\n",
    "            raise EmptyListError()\n",
    "        denominador = 0\n",
    "        for xi in x:\n",
    "            denominador += 1 / xi\n",
    "        return n / denominador\n",
    "    except ZeroDivisionError as e:\n",
    "        print(\"Erro de divisão por zero\\t\", e)\n",
    "        return 0\n",
    "    except TypeError as e:\n",
    "        print(\"Erro de tipo\\t\", e)\n",
    "        return 0\n",
    "    except EmptyListError as e:\n",
    "        print(\"Erro de lista vazia\\t\", e)\n",
    "        return 0\n",
    "\n",
    "\n",
    "apply()"
   ]
  },
  {
   "cell_type": "markdown",
   "metadata": {},
   "source": [
    "Try / Except + Else\n",
    "\n",
    "Else possui o mesmo comportamento do else em um loop, ou seja, ele é executado quando não há exceções.\n",
    "\n",
    "```python\n",
    "for i in range(10):\n",
    "    print(i)\n",
    "else:\n",
    "    print('Loop finalizado com sucesso')\n",
    "```\n",
    "\n",
    "\n",
    "```python\n",
    "for i in range(10):\n",
    "    print(i)\n",
    "    if i == 5:\n",
    "        break\n",
    "else:\n",
    "    print('Loop finalizado com sucesso')\n",
    "```\n"
   ]
  },
  {
   "cell_type": "code",
   "execution_count": 30,
   "metadata": {},
   "outputs": [
    {
     "name": "stdout",
     "output_type": "stream",
     "text": [
      "0\n",
      "1\n",
      "2\n",
      "3\n",
      "Loop finalizado com sucesso\n"
     ]
    }
   ],
   "source": [
    "## Executa até o final do loop e imprime a mensagem, pois não houve interrupção\n",
    "for i in range(4):\n",
    "    print(i)\n",
    "else:\n",
    "    print(\"Loop finalizado com sucesso\")"
   ]
  },
  {
   "cell_type": "code",
   "execution_count": 31,
   "metadata": {},
   "outputs": [
    {
     "name": "stdout",
     "output_type": "stream",
     "text": [
      "0\n",
      "1\n",
      "2\n"
     ]
    }
   ],
   "source": [
    "## NÃO Executa até o final do loop e NÃO imprime a mensagem, pois houve interrupção\n",
    "for i in range(4):\n",
    "    print(i)\n",
    "    if i == 2:\n",
    "        break\n",
    "else:\n",
    "    print(\"Loop finalizado com sucesso\")"
   ]
  },
  {
   "cell_type": "markdown",
   "metadata": {},
   "source": [
    "Como o else ao final do loop é similar ao else no try / except, podemos utilizá-lo para executar algum código quando não há exceções.\n",
    "\n"
   ]
  },
  {
   "cell_type": "code",
   "execution_count": null,
   "metadata": {},
   "outputs": [],
   "source": [
    "def media_harmonica(x: list[int, float]) -> float:\n",
    "    try:\n",
    "        n = len(x)\n",
    "        if n == 0:\n",
    "            raise EmptyListError()\n",
    "        denominador = 0\n",
    "        for xi in x:\n",
    "            denominador += 1 / xi\n",
    "        result = n / denominador\n",
    "    except ZeroDivisionError as e:\n",
    "        print(\"Erro de divisão por zero\\t\", e)\n",
    "    except TypeError as e:\n",
    "        print(\"Erro de tipo\\t\", e)\n",
    "    except EmptyListError as e:\n",
    "        print(\"Erro de lista vazia\\t\", e)\n",
    "    else:\n",
    "        print(\"Cálculo realizado com sucesso\")\n",
    "        return result\n",
    "    return 0\n",
    "\n",
    "\n",
    "apply()"
   ]
  },
  {
   "cell_type": "markdown",
   "metadata": {},
   "source": [
    "Try / Except / Else + Finally"
   ]
  },
  {
   "cell_type": "markdown",
   "metadata": {},
   "source": [
    "- Finally é um bloco de código que é executado independente de ter ocorrido exceções ou não.\n",
    "  - O finally é executado sempre, independente de ter ocorrido exceções ou não.\n",
    "- O finally é utilizado para liberar recursos, como fechar arquivos, conexões de rede, etc.\n"
   ]
  },
  {
   "cell_type": "code",
   "execution_count": 36,
   "metadata": {},
   "outputs": [
    {
     "name": "stdout",
     "output_type": "stream",
     "text": [
      "Cálculo realizado com sucesso\n",
      "Fim da execução\t2.18978102189781\n",
      "Erro de divisão por zero\t division by zero\n",
      "Fim da execução\t0\n",
      "Erro de tipo\t unsupported operand type(s) for /: 'int' and 'str'\n",
      "Fim da execução\t0\n",
      "Erro de divisão por zero\t float division by zero\n",
      "Fim da execução\t0\n",
      "Erro de lista vazia\t \n",
      "Fim da execução\t0\n"
     ]
    }
   ],
   "source": [
    "def media_harmonica(x: list[int, float]) -> float:\n",
    "    try:\n",
    "        n = len(x)\n",
    "        if n == 0:\n",
    "            raise EmptyListError()\n",
    "        denominador = 0\n",
    "        for xi in x:\n",
    "            denominador += 1 / xi\n",
    "        result = n / denominador\n",
    "    except ZeroDivisionError as e:\n",
    "        print(\"Erro de divisão por zero\\t\", e)\n",
    "    except TypeError as e:\n",
    "        print(\"Erro de tipo\\t\", e)\n",
    "    except EmptyListError as e:\n",
    "        print(\"Erro de lista vazia\\t\", e)\n",
    "    else:\n",
    "        print(\"Cálculo realizado com sucesso\")\n",
    "        return result\n",
    "    finally:\n",
    "        print(\"Fim da execução\", end=\"\\t\")\n",
    "    return 0\n",
    "\n",
    "\n",
    "apply()"
   ]
  },
  {
   "cell_type": "markdown",
   "metadata": {
    "vscode": {
     "languageId": "markdown"
    }
   },
   "source": [
    "## Exercícios"
   ]
  },
  {
   "cell_type": "markdown",
   "metadata": {},
   "source": [
    "1. **Exercício 1:** Crie uma função que receba uma lista de números e tente calcular a média. Use `try/except` para capturar qualquer erro que ocorra, como divisão por zero ou tipo de dado incorreto."
   ]
  },
  {
   "cell_type": "code",
   "execution_count": 42,
   "metadata": {},
   "outputs": [
    {
     "name": "stdout",
     "output_type": "stream",
     "text": [
      "Número processado:  1\n",
      "Número processado:  2\n",
      "Número processado:  3\n",
      "Número processado:  4\n",
      "Número processado:  5\n",
      "Erro de tipo\t unsupported operand type(s) for +=: 'int' and 'str'\n",
      "Número processado:  a\n",
      "3.0\n"
     ]
    }
   ],
   "source": [
    "# solução\n",
    "def media(numeros: list[int, float]) -> float:\n",
    "    numerador = 0\n",
    "    denominador = 0\n",
    "    for numero in numeros:\n",
    "        try:\n",
    "            numerador += numero\n",
    "            denominador += 1\n",
    "        except TypeError as e:\n",
    "            print(\"Erro de tipo\\t\", e)\n",
    "            # raise e  # mesmo com um erro, o finally será executado\n",
    "            continue\n",
    "        finally:\n",
    "            print(\"Número processado: \", numero)\n",
    "    return numerador / denominador if denominador != 0 else 0\n",
    "\n",
    "\n",
    "# print(media([1, 2, 3, 4, 5]))\n",
    "print(media([1, 2, 3, 4, 5, \"a\"]))\n",
    "# print(media([]))"
   ]
  },
  {
   "cell_type": "markdown",
   "metadata": {},
   "source": [
    "2. **Exercício 2:** Tente acessar uma chave específica em um dicionário. Capture uma exceção no caso de a chave não existir no dicionário."
   ]
  },
  {
   "cell_type": "code",
   "execution_count": 45,
   "metadata": {},
   "outputs": [
    {
     "name": "stdout",
     "output_type": "stream",
     "text": [
      "None\n"
     ]
    },
    {
     "ename": "KeyError",
     "evalue": "'a'",
     "output_type": "error",
     "traceback": [
      "\u001b[1;31m---------------------------------------------------------------------------\u001b[0m",
      "\u001b[1;31mKeyError\u001b[0m                                  Traceback (most recent call last)",
      "Cell \u001b[1;32mIn[45], line 4\u001b[0m\n\u001b[0;32m      2\u001b[0m d \u001b[38;5;241m=\u001b[39m {}\n\u001b[0;32m      3\u001b[0m \u001b[38;5;28mprint\u001b[39m(d\u001b[38;5;241m.\u001b[39mget(\u001b[38;5;124m\"\u001b[39m\u001b[38;5;124ma\u001b[39m\u001b[38;5;124m\"\u001b[39m))  \u001b[38;5;66;03m# retorna None e não gera erro\u001b[39;00m\n\u001b[1;32m----> 4\u001b[0m \u001b[43md\u001b[49m\u001b[43m[\u001b[49m\u001b[38;5;124;43m\"\u001b[39;49m\u001b[38;5;124;43ma\u001b[39;49m\u001b[38;5;124;43m\"\u001b[39;49m\u001b[43m]\u001b[49m  \u001b[38;5;66;03m# gera KeyError, pois a chave \"a\" não existe no dicionário d\u001b[39;00m\n",
      "\u001b[1;31mKeyError\u001b[0m: 'a'"
     ]
    }
   ],
   "source": [
    "# solução\n",
    "d = {}\n",
    "print(d.get(\"a\"))  # retorna None e não gera erro\n",
    "d[\"a\"]  # gera KeyError, pois a chave \"a\" não existe no dicionário d"
   ]
  },
  {
   "cell_type": "code",
   "execution_count": 48,
   "metadata": {},
   "outputs": [
    {
     "name": "stdout",
     "output_type": "stream",
     "text": [
      "None\n",
      "10\n",
      "2\n"
     ]
    }
   ],
   "source": [
    "def mock_dict_get(d: dict, key: str, default=None):\n",
    "    # if key in d:\n",
    "    #     return d[key]\n",
    "    # else:\n",
    "    #     return default\n",
    "    try:\n",
    "        return d[key]\n",
    "    except KeyError:\n",
    "        return default\n",
    "\n",
    "\n",
    "d = {\"b\": 2}\n",
    "print(mock_dict_get(d, \"a\"))  # retorna None e não gera erro\n",
    "print(mock_dict_get(d, \"a\", 10))  # retorna 10 e não gera erro\n",
    "print(mock_dict_get(d, \"b\"))  # retorna 2 e não gera erro"
   ]
  },
  {
   "cell_type": "markdown",
   "metadata": {},
   "source": [
    "3. **Exercício 3:** Crie uma função que tenta converter uma string em número inteiro, usando `try/except` para tratar erros de conversão."
   ]
  },
  {
   "cell_type": "code",
   "execution_count": null,
   "metadata": {},
   "outputs": [],
   "source": [
    "# solução"
   ]
  },
  {
   "cell_type": "markdown",
   "metadata": {},
   "source": [
    "4. **Exercício 4:** Tente acessar o índice de uma lista que está fora do seu intervalo de tamanho. Capture o erro de índice fora do alcance (`IndexError`)."
   ]
  },
  {
   "cell_type": "code",
   "execution_count": null,
   "metadata": {},
   "outputs": [],
   "source": [
    "# solução"
   ]
  },
  {
   "cell_type": "markdown",
   "metadata": {},
   "source": [
    "5. **Exercício 5:** Crie um código que tente dividir o valor de dois elementos em uma lista e capture uma exceção de `ZeroDivisionError` se o divisor for zero."
   ]
  },
  {
   "cell_type": "code",
   "execution_count": null,
   "metadata": {},
   "outputs": [],
   "source": [
    "# solução"
   ]
  },
  {
   "cell_type": "markdown",
   "metadata": {},
   "source": [
    "6. **Exercício 6:** Escreva uma função que tente concatenar duas tuplas, capturando qualquer exceção no caso de o usuário tentar concatenar com um tipo de dado diferente."
   ]
  },
  {
   "cell_type": "code",
   "execution_count": null,
   "metadata": {},
   "outputs": [],
   "source": [
    "# solução"
   ]
  },
  {
   "cell_type": "markdown",
   "metadata": {},
   "source": [
    "7. **Exercício 7:** Tente acessar um valor de uma lista que foi passada como `None`. Capture e trate o erro de `TypeError`."
   ]
  },
  {
   "cell_type": "code",
   "execution_count": null,
   "metadata": {},
   "outputs": [],
   "source": [
    "# solução"
   ]
  },
  {
   "cell_type": "markdown",
   "metadata": {},
   "source": [
    "8. **Exercício 8:** Escreva uma função que tenta atualizar um valor em um dicionário. Capture o erro no caso de o dicionário ser passado como `None`."
   ]
  },
  {
   "cell_type": "code",
   "execution_count": null,
   "metadata": {},
   "outputs": [],
   "source": [
    "# solução"
   ]
  },
  {
   "cell_type": "markdown",
   "metadata": {},
   "source": [
    "9. **Exercício 9:** Tente somar os valores de uma lista de strings convertidas para inteiros. Capture qualquer exceção de conversão usando `try/except`."
   ]
  },
  {
   "cell_type": "code",
   "execution_count": null,
   "metadata": {},
   "outputs": [],
   "source": [
    "# solução"
   ]
  },
  {
   "cell_type": "markdown",
   "metadata": {},
   "source": [
    "10. **Exercício 10:** Tente concatenar duas strings onde uma delas possa não ser do tipo `str`. Capture e trate a exceção apropriada."
   ]
  },
  {
   "cell_type": "code",
   "execution_count": null,
   "metadata": {},
   "outputs": [],
   "source": [
    "# solução"
   ]
  },
  {
   "cell_type": "markdown",
   "metadata": {},
   "source": [
    "11. **Exercício 11:** Escreva uma função que tenta pegar o valor de uma tupla em um índice específico, capturando o erro no caso de o índice estar fora do intervalo."
   ]
  },
  {
   "cell_type": "code",
   "execution_count": null,
   "metadata": {},
   "outputs": [],
   "source": [
    "# solução"
   ]
  },
  {
   "cell_type": "markdown",
   "metadata": {},
   "source": [
    "12. **Exercício 12:** Crie um código que tente fazer um cast de um valor de um dicionário para `float`. Use `try/except` para tratar os erros."
   ]
  },
  {
   "cell_type": "code",
   "execution_count": null,
   "metadata": {},
   "outputs": [],
   "source": [
    "# solução"
   ]
  },
  {
   "cell_type": "markdown",
   "metadata": {},
   "source": [
    "13. **Exercício 13:** Tente dividir dois valores de uma lista que possam estar em formato string e converta-os para inteiros. Capture qualquer exceção que possa ocorrer."
   ]
  },
  {
   "cell_type": "code",
   "execution_count": null,
   "metadata": {},
   "outputs": [],
   "source": [
    "# solução"
   ]
  },
  {
   "cell_type": "markdown",
   "metadata": {},
   "source": [
    "14. **Exercício 14:** Crie uma função que receba uma lista de tuplas e tente acessar o primeiro elemento de cada uma delas. Capture qualquer erro se alguma das tuplas estiver vazia."
   ]
  },
  {
   "cell_type": "code",
   "execution_count": null,
   "metadata": {},
   "outputs": [],
   "source": [
    "# solução"
   ]
  },
  {
   "cell_type": "markdown",
   "metadata": {},
   "source": [
    "15. **Exercício 15:** Escreva um código que tenta inverter uma string. Use `try/except` para lidar com o caso de a string ser `None`."
   ]
  },
  {
   "cell_type": "code",
   "execution_count": null,
   "metadata": {},
   "outputs": [],
   "source": [
    "# solução"
   ]
  },
  {
   "cell_type": "markdown",
   "metadata": {},
   "source": [
    "16. **Exercício 16:** Tente acessar e imprimir o primeiro caractere de uma string, capturando qualquer exceção se a string for vazia."
   ]
  },
  {
   "cell_type": "code",
   "execution_count": null,
   "metadata": {},
   "outputs": [],
   "source": [
    "# solução"
   ]
  },
  {
   "cell_type": "markdown",
   "metadata": {},
   "source": [
    "17. **Exercício 17:** Crie uma função que tenta somar dois valores de um dicionário. Capture erros caso uma das chaves não esteja presente."
   ]
  },
  {
   "cell_type": "code",
   "execution_count": null,
   "metadata": {},
   "outputs": [],
   "source": [
    "# solução"
   ]
  },
  {
   "cell_type": "markdown",
   "metadata": {},
   "source": [
    "18. **Exercício 18:** Tente dividir o comprimento de uma lista pelo número total de caracteres em uma string. Capture possíveis erros de divisão por zero e de tipos inválidos."
   ]
  },
  {
   "cell_type": "code",
   "execution_count": null,
   "metadata": {},
   "outputs": [],
   "source": [
    "# solução"
   ]
  },
  {
   "cell_type": "markdown",
   "metadata": {},
   "source": [
    "19. **Exercício 19:** Escreva uma função que tenta substituir um caractere em uma string por outro. Capture qualquer erro caso o tipo passado não seja uma string."
   ]
  },
  {
   "cell_type": "code",
   "execution_count": null,
   "metadata": {},
   "outputs": [],
   "source": [
    "# solução"
   ]
  },
  {
   "cell_type": "markdown",
   "metadata": {},
   "source": [
    "20. **Exercício 20:** Tente converter uma lista de strings em inteiros e fazer a soma dos valores. Capture qualquer erro de conversão e imprima uma mensagem adequada."
   ]
  },
  {
   "cell_type": "code",
   "execution_count": null,
   "metadata": {},
   "outputs": [],
   "source": [
    "# solução"
   ]
  }
 ],
 "metadata": {
  "kernelspec": {
   "display_name": ".venv",
   "language": "python",
   "name": "python3"
  },
  "language_info": {
   "codemirror_mode": {
    "name": "ipython",
    "version": 3
   },
   "file_extension": ".py",
   "mimetype": "text/x-python",
   "name": "python",
   "nbconvert_exporter": "python",
   "pygments_lexer": "ipython3",
   "version": "3.12.3"
  }
 },
 "nbformat": 4,
 "nbformat_minor": 2
}
