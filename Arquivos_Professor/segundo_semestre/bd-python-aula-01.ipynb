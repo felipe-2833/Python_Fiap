{
 "cells": [
  {
   "cell_type": "code",
   "execution_count": 1,
   "metadata": {},
   "outputs": [],
   "source": [
    "import sqlite3"
   ]
  },
  {
   "cell_type": "code",
   "execution_count": 15,
   "metadata": {},
   "outputs": [],
   "source": [
    "con = sqlite3.connect(\"banco.db\")"
   ]
  },
  {
   "cell_type": "code",
   "execution_count": 16,
   "metadata": {},
   "outputs": [],
   "source": [
    "cur = con.cursor()"
   ]
  },
  {
   "cell_type": "code",
   "execution_count": 4,
   "metadata": {},
   "outputs": [],
   "source": [
    "result = cur.execute(\"SELECT name FROM sqlite_master\")\n",
    "exists = any(\"movie\" in record for record in result)"
   ]
  },
  {
   "cell_type": "code",
   "execution_count": 5,
   "metadata": {},
   "outputs": [
    {
     "data": {
      "text/plain": [
       "<sqlite3.Cursor at 0x1ddb48b78c0>"
      ]
     },
     "execution_count": 5,
     "metadata": {},
     "output_type": "execute_result"
    }
   ],
   "source": [
    "# if not exists:\n",
    "#     cur.execute(\"CREATE TABLE movie(title, year, score)\")\n",
    "cur.execute(\"CREATE TABLE IF NOT EXISTS movie(title, year, score)\")"
   ]
  },
  {
   "cell_type": "code",
   "execution_count": 6,
   "metadata": {},
   "outputs": [
    {
     "data": {
      "text/plain": [
       "[('movie',)]"
      ]
     },
     "execution_count": 6,
     "metadata": {},
     "output_type": "execute_result"
    }
   ],
   "source": [
    "res = cur.execute(\"SELECT name FROM sqlite_master\")\n",
    "# res.fetchone()\n",
    "res.fetchall()"
   ]
  },
  {
   "cell_type": "code",
   "execution_count": 7,
   "metadata": {},
   "outputs": [
    {
     "data": {
      "text/plain": [
       "<sqlite3.Cursor at 0x1ddb48b78c0>"
      ]
     },
     "execution_count": 7,
     "metadata": {},
     "output_type": "execute_result"
    }
   ],
   "source": [
    "cur.execute(\n",
    "    \"\"\"\n",
    "INSERT INTO movie(title, year, score)\n",
    "VALUES ('The Shawshank Redemption', 1994, 9.3)\n",
    "            \"\"\"\n",
    ")"
   ]
  },
  {
   "cell_type": "code",
   "execution_count": 8,
   "metadata": {},
   "outputs": [],
   "source": [
    "con.commit()"
   ]
  },
  {
   "cell_type": "code",
   "execution_count": 9,
   "metadata": {},
   "outputs": [
    {
     "data": {
      "text/plain": [
       "[('The Shawshank Redemption', 1994, 9.3),\n",
       " ('Monty Python and the Holy Grail', 1975, 8.2),\n",
       " ('And Now for Something Completely Different', 1971, 7.5),\n",
       " ('Monty Python Live at the Hollywood Bowl', 1982, 7.9),\n",
       " (\"Monty Python's The Meaning of Life\", 1983, 7.5),\n",
       " (\"Monty Python's Life of Brian\", 1979, 8.0),\n",
       " ('The Shawshank Redemption', 1994, 9.3),\n",
       " ('Monty Python and the Holy Grail', 1975, 8.2),\n",
       " ('And Now for Something Completely Different', 1971, 7.5),\n",
       " ('Monty Python Live at the Hollywood Bowl', 1982, 7.9),\n",
       " (\"Monty Python's The Meaning of Life\", 1983, 7.5),\n",
       " (\"Monty Python's Life of Brian\", 1979, 8.0),\n",
       " ('The Shawshank Redemption', 1994, 9.3)]"
      ]
     },
     "execution_count": 9,
     "metadata": {},
     "output_type": "execute_result"
    }
   ],
   "source": [
    "result = cur.execute(\"SELECT * FROM movie\")\n",
    "result.fetchall()"
   ]
  },
  {
   "cell_type": "code",
   "execution_count": 10,
   "metadata": {},
   "outputs": [],
   "source": [
    "cur.execute(\n",
    "    \"\"\"\n",
    "    INSERT INTO movie VALUES\n",
    "        ('Monty Python and the Holy Grail', 1975, 8.2),\n",
    "        ('And Now for Something Completely Different', 1971, 7.5)\n",
    "\"\"\"\n",
    ")\n",
    "con.commit()"
   ]
  },
  {
   "cell_type": "code",
   "execution_count": 11,
   "metadata": {},
   "outputs": [
    {
     "data": {
      "text/plain": [
       "[('The Shawshank Redemption', 1994, 9.3),\n",
       " ('Monty Python and the Holy Grail', 1975, 8.2),\n",
       " ('And Now for Something Completely Different', 1971, 7.5),\n",
       " ('Monty Python Live at the Hollywood Bowl', 1982, 7.9),\n",
       " (\"Monty Python's The Meaning of Life\", 1983, 7.5),\n",
       " (\"Monty Python's Life of Brian\", 1979, 8.0),\n",
       " ('The Shawshank Redemption', 1994, 9.3),\n",
       " ('Monty Python and the Holy Grail', 1975, 8.2),\n",
       " ('And Now for Something Completely Different', 1971, 7.5),\n",
       " ('Monty Python Live at the Hollywood Bowl', 1982, 7.9),\n",
       " (\"Monty Python's The Meaning of Life\", 1983, 7.5),\n",
       " (\"Monty Python's Life of Brian\", 1979, 8.0),\n",
       " ('The Shawshank Redemption', 1994, 9.3),\n",
       " ('Monty Python and the Holy Grail', 1975, 8.2),\n",
       " ('And Now for Something Completely Different', 1971, 7.5)]"
      ]
     },
     "execution_count": 11,
     "metadata": {},
     "output_type": "execute_result"
    }
   ],
   "source": [
    "result = cur.execute(\"SELECT * FROM movie\")\n",
    "result.fetchall()"
   ]
  },
  {
   "cell_type": "code",
   "execution_count": 12,
   "metadata": {},
   "outputs": [],
   "source": [
    "data = [\n",
    "    (\"Monty Python Live at the Hollywood Bowl\", 1982, 7.9),\n",
    "    (\"Monty Python's The Meaning of Life\", 1983, 7.5),\n",
    "    (\"Monty Python's Life of Brian\", 1979, 8.0),\n",
    "]\n",
    "cur.executemany(\"INSERT INTO movie VALUES(?, ?, ?)\", data)\n",
    "con.commit()"
   ]
  },
  {
   "cell_type": "code",
   "execution_count": 13,
   "metadata": {},
   "outputs": [
    {
     "data": {
      "text/plain": [
       "[('The Shawshank Redemption', 1994, 9.3),\n",
       " ('Monty Python and the Holy Grail', 1975, 8.2),\n",
       " ('And Now for Something Completely Different', 1971, 7.5),\n",
       " ('Monty Python Live at the Hollywood Bowl', 1982, 7.9),\n",
       " (\"Monty Python's The Meaning of Life\", 1983, 7.5),\n",
       " (\"Monty Python's Life of Brian\", 1979, 8.0),\n",
       " ('The Shawshank Redemption', 1994, 9.3),\n",
       " ('Monty Python and the Holy Grail', 1975, 8.2),\n",
       " ('And Now for Something Completely Different', 1971, 7.5),\n",
       " ('Monty Python Live at the Hollywood Bowl', 1982, 7.9),\n",
       " (\"Monty Python's The Meaning of Life\", 1983, 7.5),\n",
       " (\"Monty Python's Life of Brian\", 1979, 8.0),\n",
       " ('The Shawshank Redemption', 1994, 9.3),\n",
       " ('Monty Python and the Holy Grail', 1975, 8.2),\n",
       " ('And Now for Something Completely Different', 1971, 7.5),\n",
       " ('Monty Python Live at the Hollywood Bowl', 1982, 7.9),\n",
       " (\"Monty Python's The Meaning of Life\", 1983, 7.5),\n",
       " (\"Monty Python's Life of Brian\", 1979, 8.0)]"
      ]
     },
     "execution_count": 13,
     "metadata": {},
     "output_type": "execute_result"
    }
   ],
   "source": [
    "result = cur.execute(\"SELECT * FROM movie\")\n",
    "result.fetchall()"
   ]
  },
  {
   "cell_type": "code",
   "execution_count": 17,
   "metadata": {},
   "outputs": [
    {
     "data": {
      "text/plain": [
       "[('The Shawshank Redemption', 1994, 9.3),\n",
       " ('Monty Python and the Holy Grail', 1975, 8.2),\n",
       " ('The Shawshank Redemption', 1994, 9.3),\n",
       " ('Monty Python and the Holy Grail', 1975, 8.2),\n",
       " ('The Shawshank Redemption', 1994, 9.3),\n",
       " ('Monty Python and the Holy Grail', 1975, 8.2)]"
      ]
     },
     "execution_count": 17,
     "metadata": {},
     "output_type": "execute_result"
    }
   ],
   "source": [
    "result = cur.execute(\"SELECT * FROM movie WHERE score > 8.0\")\n",
    "result.fetchall()"
   ]
  },
  {
   "cell_type": "code",
   "execution_count": 18,
   "metadata": {},
   "outputs": [
    {
     "data": {
      "text/plain": [
       "[('The Shawshank Redemption', 1994, 9.0),\n",
       " ('The Shawshank Redemption', 1994, 9.0),\n",
       " ('The Shawshank Redemption', 1994, 9.0)]"
      ]
     },
     "execution_count": 18,
     "metadata": {},
     "output_type": "execute_result"
    }
   ],
   "source": [
    "cur.execute(\"UPDATE movie SET score = 9.0 WHERE title = 'The Shawshank Redemption'\")\n",
    "con.commit()\n",
    "cur.execute(\"SELECT * FROM movie WHERE title = 'The Shawshank Redemption'\").fetchall()\n"
   ]
  },
  {
   "cell_type": "code",
   "execution_count": 14,
   "metadata": {},
   "outputs": [],
   "source": [
    "con.close()"
   ]
  }
 ],
 "metadata": {
  "kernelspec": {
   "display_name": ".venv",
   "language": "python",
   "name": "python3"
  },
  "language_info": {
   "codemirror_mode": {
    "name": "ipython",
    "version": 3
   },
   "file_extension": ".py",
   "mimetype": "text/x-python",
   "name": "python",
   "nbconvert_exporter": "python",
   "pygments_lexer": "ipython3",
   "version": "3.12.3"
  }
 },
 "nbformat": 4,
 "nbformat_minor": 2
}
