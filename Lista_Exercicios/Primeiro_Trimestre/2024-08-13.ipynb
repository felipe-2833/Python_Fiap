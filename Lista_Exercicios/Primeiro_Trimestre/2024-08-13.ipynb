{
 "cells": [
  {
   "cell_type": "markdown",
   "metadata": {},
   "source": [
    "# Lista de Exercícios sobre Dicionários"
   ]
  },
  {
   "cell_type": "markdown",
   "metadata": {},
   "source": [
    "## 1. Contagem de Palavras\n",
    "Escreva uma função que receba uma string e retorne um dicionário onde as chaves são as palavras e os valores são o número de ocorrências dessas palavras."
   ]
  },
  {
   "cell_type": "code",
   "execution_count": 2,
   "metadata": {},
   "outputs": [],
   "source": [
    "def limpa_palavras(frase):\n",
    "    frase_limpa = \"\"\n",
    "    for char in frase:\n",
    "        char = char.lower()\n",
    "        if char.isalnum() or char.isspace() or char == \"-\":\n",
    "            frase_limpa += char\n",
    "    return frase_limpa"
   ]
  },
  {
   "cell_type": "code",
   "execution_count": 9,
   "metadata": {},
   "outputs": [
    {
     "data": {
      "text/plain": [
       "Counter({'meu': 5})"
      ]
     },
     "execution_count": 9,
     "metadata": {},
     "output_type": "execute_result"
    }
   ],
   "source": [
    "# Solução\n",
    "from collections import Counter\n",
    "from collections import defaultdict\n",
    "def conta_palavras(frase):\n",
    "    return Counter(limpa_palavras(frase).split())\n",
    "    \n",
    "texto = \"meu meu meu meu meu\"\n",
    "conta_palavras(texto)\n"
   ]
  },
  {
   "cell_type": "markdown",
   "metadata": {},
   "source": [
    "## 2. Filtro de Dicionário\n",
    "Escreva uma função que receba um dicionário e uma lista de chaves. A função deve retornar um novo dicionário contendo apenas as chaves fornecidas na lista.\n"
   ]
  },
  {
   "cell_type": "code",
   "execution_count": 4,
   "metadata": {},
   "outputs": [],
   "source": [
    "# Solução\n",
    "def filtro_dicionario(dic,list):\n",
    "    new_dict = {}\n",
    "    for chave in list:\n",
    "        if valor:= dic.get(chave):\n",
    "            new_dict[chave] = valor\n",
    "    return new_dict\n",
    "    ##return{chave: dic[chave] for chave in list if chave in dic}\n"
   ]
  },
  {
   "cell_type": "markdown",
   "metadata": {},
   "source": [
    "## 3. Agrupamento por Valor\n",
    "Dado uma lista de tuplas, onde cada tupla contém dois elementos (chave, valor), escreva uma função que agrupe as tuplas em um dicionário onde as chaves sejam os valores e os valores sejam listas das chaves correspondentes.\n"
   ]
  },
  {
   "cell_type": "code",
   "execution_count": 5,
   "metadata": {},
   "outputs": [
    {
     "data": {
      "text/plain": [
       "{1: ['a', 'e'], 2: ['b'], 3: ['c'], 4: ['d']}"
      ]
     },
     "execution_count": 5,
     "metadata": {},
     "output_type": "execute_result"
    }
   ],
   "source": [
    "# Solução\n",
    "def agrupamento_valor(lista_tuplas):\n",
    "    new_dict = {}\n",
    "    for tupla in lista_tuplas:\n",
    "        value, key = tupla\n",
    "        if key in new_dict:\n",
    "            new_dict[key].append(value)\n",
    "        else:\n",
    "            new_dict[key] = [value]\n",
    "    return new_dict\n",
    "\n",
    "lista_tuplas = [(\"a\", 1), (\"b\", 2), (\"c\", 3), (\"d\", 4), (\"e\", 1)]\n",
    "agrupamento_valor(lista_tuplas)\n",
    "\n",
    "        "
   ]
  },
  {
   "cell_type": "markdown",
   "metadata": {},
   "source": [
    "## 4. Dicionário de Frequências\n",
    "Dado uma lista de inteiros, escreva uma função que retorne um dicionário onde as chaves são os inteiros e os valores são a frequência de cada inteiro na lista.\n"
   ]
  },
  {
   "cell_type": "code",
   "execution_count": 20,
   "metadata": {},
   "outputs": [
    {
     "data": {
      "text/plain": [
       "Counter({4: 6,\n",
       "         1: 5,\n",
       "         3: 5,\n",
       "         2: 4,\n",
       "         5: 3,\n",
       "         8: 3,\n",
       "         6: 2,\n",
       "         7: 2,\n",
       "         9: 1,\n",
       "         12: 1,\n",
       "         34: 1,\n",
       "         65: 1,\n",
       "         87: 1,\n",
       "         21: 1})"
      ]
     },
     "execution_count": 20,
     "metadata": {},
     "output_type": "execute_result"
    }
   ],
   "source": [
    "# Solução\n",
    "lista_de_inteiros = [1, 2, 3, 4,5,3,2,1,4,6,7,8,9,12,3,4,1,6,4,7,8,5,34,65,3,2,87,1,21,2,1,4,3,5,4,8]\n",
    "def dicionário_frequencia_num_int(lista_inteiros:list) -> dict:\n",
    "    return Counter(lista_inteiros)\n",
    "\n",
    "dicionário_frequencia_num_int(lista_de_inteiros)\n",
    "    "
   ]
  },
  {
   "cell_type": "markdown",
   "metadata": {},
   "source": [
    "## 5. Inversão de Dicionário\n",
    "Escreva uma função que inverta um dicionário, trocando as chaves pelos valores. Se houver valores repetidos no dicionário original, combine as chaves correspondentes em uma lista."
   ]
  },
  {
   "cell_type": "code",
   "execution_count": 8,
   "metadata": {},
   "outputs": [
    {
     "data": {
      "text/plain": [
       "{'valor1': ['chave1', 'chave4', 'chave10'],\n",
       " 'valor2': ['chave2', 'chave6', 'chave12'],\n",
       " 'valor3': ['chave3', 'chave8'],\n",
       " 'valor4': ['chave5', 'chave15'],\n",
       " 'valor5': ['chave7'],\n",
       " 'valor6': ['chave9'],\n",
       " 'valor7': ['chave11'],\n",
       " 'valor8': ['chave13'],\n",
       " 'valor9': ['chave14']}"
      ]
     },
     "execution_count": 8,
     "metadata": {},
     "output_type": "execute_result"
    }
   ],
   "source": [
    "# Solução\n",
    "meu_dicionario = {\n",
    "    \"chave1\": \"valor1\",\n",
    "    \"chave2\": \"valor2\",\n",
    "    \"chave3\": \"valor3\",\n",
    "    \"chave4\": \"valor1\",  # Valor repetido\n",
    "    \"chave5\": \"valor4\",\n",
    "    \"chave6\": \"valor2\",  # Valor repetido\n",
    "    \"chave7\": \"valor5\",\n",
    "    \"chave8\": \"valor3\",  # Valor repetido\n",
    "    \"chave9\": \"valor6\",\n",
    "    \"chave10\": \"valor1\",  # Valor repetido\n",
    "    \"chave11\": \"valor7\",\n",
    "    \"chave12\": \"valor2\",  # Valor repetido\n",
    "    \"chave13\": \"valor8\",\n",
    "    \"chave14\": \"valor9\",\n",
    "    \"chave15\": \"valor4\"   # Valor repetido\n",
    "}\n",
    "def dicionario_invertido(dicionario):\n",
    "    lista_tuplas = []\n",
    "    for chave,valor in dicionario.items():\n",
    "        lista_tuplas.append((chave,valor))\n",
    "    return agrupamento_valor(lista_tuplas)\n",
    "\n",
    "dicionario_invertido(meu_dicionario)"
   ]
  },
  {
   "cell_type": "markdown",
   "metadata": {},
   "source": [
    "## 6. Mapeamento de Strings\n",
    "Dado duas strings de igual comprimento, escreva uma função que crie um dicionário mapeando os caracteres da primeira string para os caracteres correspondentes da segunda string."
   ]
  },
  {
   "cell_type": "code",
   "execution_count": 11,
   "metadata": {},
   "outputs": [
    {
     "data": {
      "text/plain": [
       "defaultdict(int,\n",
       "            {0: ['P', 'S'],\n",
       "             1: ['r', 'e'],\n",
       "             2: ['i', 'g'],\n",
       "             3: ['m', 'u'],\n",
       "             4: ['e', 'n'],\n",
       "             5: ['i', 'd'],\n",
       "             6: ['r', 'a'],\n",
       "             7: ['a', ' '],\n",
       "             8: [' ', 's'],\n",
       "             9: ['s', 't'],\n",
       "             10: ['t', 'r'],\n",
       "             11: ['r', 'i'],\n",
       "             12: ['i', 'n'],\n",
       "             13: ['n', 'g'],\n",
       "             14: ['g', ' '],\n",
       "             15: [' ', 'a'],\n",
       "             16: ['a', 'q'],\n",
       "             17: ['q', 'u'],\n",
       "             18: ['u', 'i'],\n",
       "             19: ['i', ' ']})"
      ]
     },
     "execution_count": 11,
     "metadata": {},
     "output_type": "execute_result"
    }
   ],
   "source": [
    "# Solução\n",
    "string1 = \"Primeira string aqui\"\n",
    "string2 = \"Segunda string aqui \"\n",
    "def mapeando_strings(string1, string2: str) -> dict:\n",
    "    new_dict = defaultdict(int)\n",
    "    for a in range(0,len(string1)):\n",
    "        new_dict[a] \n",
    "    for i in new_dict:\n",
    "        new_dict[i] = [string1[i], string2[i]]\n",
    "    return new_dict\n",
    "\n",
    "mapeando_strings(string1,string2)\n",
    "     \n",
    "        "
   ]
  },
  {
   "cell_type": "markdown",
   "metadata": {},
   "source": [
    "## 7. Junção de Dicionários\n",
    "Escreva uma função que receba dois dicionários e retorne um novo dicionário que seja a junção dos dois. Se uma chave existir em ambos os dicionários, o valor resultante deve ser a soma dos valores correspondentes."
   ]
  },
  {
   "cell_type": "code",
   "execution_count": 14,
   "metadata": {},
   "outputs": [
    {
     "data": {
      "text/plain": [
       "{'chave1': ['valorA'],\n",
       " 'chave2': ['valorB'],\n",
       " 'chave3': ['valorC', 'valorX'],\n",
       " 'chave4': ['valorD'],\n",
       " 'chave5': ['valorE'],\n",
       " 'chave6': ['valorF'],\n",
       " 'chave7': ['valorG', 'valorY'],\n",
       " 'chave8': ['valorH'],\n",
       " 'chave9': ['valorI'],\n",
       " 'chave10': ['valorJ', 'valorZ'],\n",
       " 'chave11': ['valorK'],\n",
       " 'chave12': ['valorL'],\n",
       " 'chave13': ['valorM'],\n",
       " 'chave14': ['valorN'],\n",
       " 'chave15': ['valorO'],\n",
       " 'chave16': ['valorP'],\n",
       " 'chave17': ['valorQ'],\n",
       " 'chave18': ['valorR'],\n",
       " 'chave19': ['valorS'],\n",
       " 'chave20': ['valorT'],\n",
       " 'chave21': ['valorU'],\n",
       " 'chave22': ['valorV'],\n",
       " 'chave23': ['valorW'],\n",
       " 'chave24': ['valorX'],\n",
       " 'chave25': ['valorY'],\n",
       " 'chave26': ['valorZ'],\n",
       " 'chave27': ['valorA']}"
      ]
     },
     "execution_count": 14,
     "metadata": {},
     "output_type": "execute_result"
    }
   ],
   "source": [
    "# Solução\n",
    "dicionario1 = {\n",
    "    \"chave1\": \"valorA\",\n",
    "    \"chave2\": \"valorB\",\n",
    "    \"chave3\": \"valorC\",\n",
    "    \"chave4\": \"valorD\",\n",
    "    \"chave5\": \"valorE\",\n",
    "    \"chave6\": \"valorF\",\n",
    "    \"chave7\": \"valorG\",\n",
    "    \"chave8\": \"valorH\",\n",
    "    \"chave9\": \"valorI\",\n",
    "    \"chave10\": \"valorJ\",\n",
    "    \"chave11\": \"valorK\",\n",
    "    \"chave12\": \"valorL\",\n",
    "    \"chave13\": \"valorM\",\n",
    "    \"chave14\": \"valorN\",\n",
    "    \"chave15\": \"valorO\"\n",
    "}\n",
    "\n",
    "dicionario2 = {\n",
    "    \"chave3\": \"valorX\",  # Chave comum com dicionario1\n",
    "    \"chave7\": \"valorY\",  # Chave comum com dicionario1\n",
    "    \"chave10\": \"valorZ\", # Chave comum com dicionario1\n",
    "    \"chave16\": \"valorP\",\n",
    "    \"chave17\": \"valorQ\",\n",
    "    \"chave18\": \"valorR\",\n",
    "    \"chave19\": \"valorS\",\n",
    "    \"chave20\": \"valorT\",\n",
    "    \"chave21\": \"valorU\",\n",
    "    \"chave22\": \"valorV\",\n",
    "    \"chave23\": \"valorW\",\n",
    "    \"chave24\": \"valorX\",\n",
    "    \"chave25\": \"valorY\",\n",
    "    \"chave26\": \"valorZ\",\n",
    "    \"chave27\": \"valorA\"\n",
    "}\n",
    "def juncao_dicionarios(dict1,dict2: dict) -> dict:\n",
    "    lista_tuplas = []\n",
    "    for chave,valor in dict1.items():\n",
    "        lista_tuplas.append((valor,chave))\n",
    "    for chave,valor in dict2.items():\n",
    "        lista_tuplas.append((valor,chave))\n",
    "    return agrupamento_valor(lista_tuplas)\n",
    "\n",
    "juncao_dicionarios(dicionario1,dicionario2)"
   ]
  },
  {
   "cell_type": "code",
   "execution_count": 15,
   "metadata": {},
   "outputs": [
    {
     "data": {
      "text/plain": [
       "{'chave1': 'valorA',\n",
       " 'chave2': 'valorB',\n",
       " 'chave3': 'valorCvalorX',\n",
       " 'chave4': 'valorD',\n",
       " 'chave5': 'valorE',\n",
       " 'chave6': 'valorF',\n",
       " 'chave7': 'valorGvalorY',\n",
       " 'chave8': 'valorH',\n",
       " 'chave9': 'valorI',\n",
       " 'chave10': 'valorJvalorZ',\n",
       " 'chave11': 'valorK',\n",
       " 'chave12': 'valorL',\n",
       " 'chave13': 'valorM',\n",
       " 'chave14': 'valorN',\n",
       " 'chave15': 'valorO',\n",
       " 'chave16': 'valorP',\n",
       " 'chave17': 'valorQ',\n",
       " 'chave18': 'valorR',\n",
       " 'chave19': 'valorS',\n",
       " 'chave20': 'valorT',\n",
       " 'chave21': 'valorU',\n",
       " 'chave22': 'valorV',\n",
       " 'chave23': 'valorW',\n",
       " 'chave24': 'valorX',\n",
       " 'chave25': 'valorY',\n",
       " 'chave26': 'valorZ',\n",
       " 'chave27': 'valorA'}"
      ]
     },
     "execution_count": 15,
     "metadata": {},
     "output_type": "execute_result"
    }
   ],
   "source": [
    "#Solução professor \n",
    "\n",
    "def juntar_dicionario(d1: dict,d2: dict) -> dict:\n",
    "    new_dict = {**d1}\n",
    "    for chave,valor in d2.items():\n",
    "        if chave in d1:\n",
    "            new_dict[chave] += valor\n",
    "        else:\n",
    "            new_dict[chave] = valor\n",
    "    return new_dict\n",
    "        \n",
    "\n",
    "juntar_dicionario(dicionario1,dicionario2)"
   ]
  },
  {
   "cell_type": "markdown",
   "metadata": {},
   "source": [
    "## 8. Análise de Sentimentos\n",
    "Dado um texto, escreva uma função que analise a frequência de palavras positivas e negativas com base em dois dicionários predefinidos (um para palavras positivas e outro para palavras negativas).\n"
   ]
  },
  {
   "cell_type": "code",
   "execution_count": 8,
   "metadata": {},
   "outputs": [],
   "source": [
    "# Solução"
   ]
  },
  {
   "cell_type": "markdown",
   "metadata": {},
   "source": [
    "## 9. Histograma de Letras\n",
    "Escreva uma função que receba uma string e retorne um dicionário onde as chaves são as letras e os valores são listas de índices onde essas letras aparecem na string."
   ]
  },
  {
   "cell_type": "code",
   "execution_count": 15,
   "metadata": {},
   "outputs": [
    {
     "data": {
      "text/plain": [
       "{'S': [0],\n",
       " 'e': [1],\n",
       " 'g': [2, 13],\n",
       " 'u': [3, 17],\n",
       " 'n': [4, 12],\n",
       " 'd': [5],\n",
       " 'a': [6, 15],\n",
       " ' ': [7, 14, 19],\n",
       " 's': [8],\n",
       " 't': [9],\n",
       " 'r': [10],\n",
       " 'i': [11, 18],\n",
       " 'q': [16]}"
      ]
     },
     "execution_count": 15,
     "metadata": {},
     "output_type": "execute_result"
    }
   ],
   "source": [
    "# Solução\n",
    "def historiagrama_de_letras(string: str) -> dict:\n",
    "    new_dict = {}\n",
    "    for i,cont in zip(string,range(0,len(string))):\n",
    "        if i in new_dict:\n",
    "            new_dict[i].append(cont)\n",
    "        else:\n",
    "            new_dict[i] = [cont]\n",
    "    return new_dict\n",
    "    \n",
    "historiagrama_de_letras(string2)"
   ]
  },
  {
   "cell_type": "markdown",
   "metadata": {},
   "source": [
    "## 10. Dicionário de Prefixos\n",
    "Dado uma lista de strings, escreva uma função que retorne um dicionário onde as chaves são os prefixos das strings de comprimento 3 e os valores são listas das strings correspondentes.\n"
   ]
  },
  {
   "cell_type": "code",
   "execution_count": 10,
   "metadata": {},
   "outputs": [],
   "source": [
    "# Solução"
   ]
  },
  {
   "cell_type": "markdown",
   "metadata": {},
   "source": [
    "## 11. Transformação de Dicionário\n",
    "Escreva uma função que receba um dicionário onde os valores são listas de números. A função deve retornar um novo dicionário onde os valores são a média aritmética dos números em cada lista.\n"
   ]
  },
  {
   "cell_type": "code",
   "execution_count": 18,
   "metadata": {},
   "outputs": [
    {
     "data": {
      "text/plain": [
       "{'lista1': 3.0,\n",
       " 'lista2': 30.0,\n",
       " 'lista3': 300.0,\n",
       " 'lista4': 21.0,\n",
       " 'lista5': 33.0}"
      ]
     },
     "execution_count": 18,
     "metadata": {},
     "output_type": "execute_result"
    }
   ],
   "source": [
    "# Solução\n",
    "meu_dicionario = {\n",
    "    \"lista1\": [1, 2, 3, 4, 5],\n",
    "    \"lista2\": [10, 20, 30, 40, 50],\n",
    "    \"lista3\": [100, 200, 300, 400, 500],\n",
    "    \"lista4\": [7, 14, 21, 28, 35],\n",
    "    \"lista5\": [11, 22, 33, 44, 55]\n",
    "}\n",
    "\n",
    "def transforma_dict(dict_numeros: dict) -> dict:\n",
    "    new_dict = {}\n",
    "    for chave,valor in dict_numeros.items():\n",
    "        soma = 0\n",
    "        for i in valor:\n",
    "            soma += i\n",
    "        media = soma / len(valor)\n",
    "        new_dict[chave] = media\n",
    "    return new_dict\n",
    "\n",
    "transforma_dict(meu_dicionario)\n",
    "        "
   ]
  },
  {
   "cell_type": "markdown",
   "metadata": {},
   "source": [
    "## 12. Unindo Listas de Dicionários\n",
    "Dado duas listas de dicionários, escreva uma função que una os dicionários com base em uma chave comum. Se a chave existir em ambos os dicionários, combine os valores em uma lista."
   ]
  },
  {
   "cell_type": "code",
   "execution_count": 12,
   "metadata": {},
   "outputs": [],
   "source": [
    "# Solução"
   ]
  },
  {
   "cell_type": "markdown",
   "metadata": {},
   "source": [
    "## 13. Contagem de Pares\n",
    "Dado uma lista de inteiros, escreva uma função que retorne um dicionário onde as chaves são as diferenças entre os pares de inteiros e os valores são a contagem de quantas vezes cada diferença aparece."
   ]
  },
  {
   "cell_type": "code",
   "execution_count": 23,
   "metadata": {},
   "outputs": [
    {
     "data": {
      "text/plain": [
       "{1: 35}"
      ]
     },
     "execution_count": 23,
     "metadata": {},
     "output_type": "execute_result"
    }
   ],
   "source": [
    "# Solução\n",
    "def contagem_pares(lista_inteiros: list) -> dict:\n",
    "    new_dict = {}\n",
    "    for i,cont in zip(lista_inteiros,range(0,len(lista_inteiros))):\n",
    "        if cont == len(lista_inteiros):\n",
    "            if (i - lista_inteiros[cont]) in new_dict:\n",
    "                new_dict[i - lista_inteiros[cont]] += 1\n",
    "            else:\n",
    "                new_dict[i - lista_inteiros[cont]] = 0\n",
    "        else:\n",
    "            if (i - lista_inteiros[cont] + 1) in new_dict:\n",
    "                new_dict[i - lista_inteiros[cont] + 1] += 1\n",
    "            else:\n",
    "                new_dict[i - lista_inteiros[cont] + 1] = 0\n",
    "    return new_dict\n",
    "\n",
    "contagem_pares(lista_de_inteiros)"
   ]
  },
  {
   "cell_type": "code",
   "execution_count": null,
   "metadata": {},
   "outputs": [],
   "source": [
    "def contagem_pares(lista_inteiros: list) -> dict:\n",
    "    "
   ]
  },
  {
   "cell_type": "markdown",
   "metadata": {},
   "source": [
    "## 14. Histograma\n",
    "Escreva uma função que receba uma lista de números e retorne um dicionário com 10 chaves representando intervalos igualmente espaçados que cubram o intervalo total dos números. Os valores do dicionário devem ser a contagem de quantos números caem em cada intervalo.\n"
   ]
  },
  {
   "cell_type": "code",
   "execution_count": 14,
   "metadata": {},
   "outputs": [],
   "source": [
    "# Solução"
   ]
  },
  {
   "cell_type": "markdown",
   "metadata": {},
   "source": [
    "## 15. Substituição de Palavras\n",
    "Escreva uma função que receba um texto e um dicionário de substituição onde as chaves são palavras a serem substituídas e os valores são as palavras substitutas. A função deve retornar o texto com todas as substituições realizadas."
   ]
  },
  {
   "cell_type": "code",
   "execution_count": 15,
   "metadata": {},
   "outputs": [],
   "source": [
    "# Solução"
   ]
  },
  {
   "cell_type": "markdown",
   "metadata": {},
   "source": [
    "## 16. Dicionário de Combinações\n",
    "Dado um dicionário onde os valores são listas, escreva uma função que retorne uma lista de todas as combinações possíveis dos elementos dessas listas.\n"
   ]
  },
  {
   "cell_type": "code",
   "execution_count": 16,
   "metadata": {},
   "outputs": [],
   "source": [
    "# Solução"
   ]
  },
  {
   "cell_type": "markdown",
   "metadata": {},
   "source": [
    "## 17. Dicionário de Funções\n",
    "Escreva uma função que receba um dicionário onde as chaves são nomes de funções (como strings) e os valores são listas de argumentos. A função deve executar cada função com os argumentos fornecidos e retornar um dicionário com os resultados.\n"
   ]
  },
  {
   "cell_type": "code",
   "execution_count": 17,
   "metadata": {},
   "outputs": [],
   "source": [
    "# Solução"
   ]
  },
  {
   "cell_type": "markdown",
   "metadata": {},
   "source": [
    "## 18. Mapeamento de Elementos Únicos\n",
    "Dado duas listas, escreva uma função que crie um dicionário onde as chaves são os elementos únicos da primeira lista e os valores são as listas de índices onde esses elementos aparecem na segunda lista.\n"
   ]
  },
  {
   "cell_type": "code",
   "execution_count": 18,
   "metadata": {},
   "outputs": [],
   "source": [
    "# Solução"
   ]
  },
  {
   "cell_type": "markdown",
   "metadata": {},
   "source": [
    "## 19. Filtrando por Critério\n",
    "Dado um dicionário de produtos com seus respectivos preços, escreva uma função que retorne um novo dicionário filtrando os produtos que estão dentro de um intervalo de preço fornecido.\n"
   ]
  },
  {
   "cell_type": "code",
   "execution_count": 19,
   "metadata": {},
   "outputs": [],
   "source": [
    "# Solução"
   ]
  }
 ],
 "metadata": {
  "kernelspec": {
   "display_name": ".venv",
   "language": "python",
   "name": "python3"
  },
  "language_info": {
   "codemirror_mode": {
    "name": "ipython",
    "version": 3
   },
   "file_extension": ".py",
   "mimetype": "text/x-python",
   "name": "python",
   "nbconvert_exporter": "python",
   "pygments_lexer": "ipython3",
   "version": "3.11.9"
  }
 },
 "nbformat": 4,
 "nbformat_minor": 2
}
