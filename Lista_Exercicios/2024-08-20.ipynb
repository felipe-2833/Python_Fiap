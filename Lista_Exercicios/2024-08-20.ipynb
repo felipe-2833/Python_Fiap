{
 "cells": [
  {
   "cell_type": "markdown",
   "metadata": {},
   "source": [
    "# Try / Except / Else / Finally"
   ]
  },
  {
   "cell_type": "code",
   "execution_count": null,
   "metadata": {},
   "outputs": [],
   "source": [
    "#int(\"a\")\n",
    "float(\"1.0\")"
   ]
  },
  {
   "cell_type": "code",
   "execution_count": null,
   "metadata": {},
   "outputs": [],
   "source": [
    "while True:\n",
    "    entrada = int(input(\"Digite um número: \"))\n",
    "    if entrada > 10:\n",
    "        print(\"Numero maior que 10\")\n",
    "    else:\n",
    "        print(\"NUmero menor que 10\")\n",
    "    #error se indicar um numero float "
   ]
  },
  {
   "cell_type": "code",
   "execution_count": 1,
   "metadata": {},
   "outputs": [
    {
     "name": "stdout",
     "output_type": "stream",
     "text": [
      "Numero maior que 10\n",
      "Você não digitou um numero inteiro.\n",
      "NUmero menor que 10\n",
      "NUmero menor que 10\n",
      "Saindo do looping.\n"
     ]
    }
   ],
   "source": [
    "while True:\n",
    "    try:\n",
    "        entrada = int(input(\"Digite um número: \"))\n",
    "    except:\n",
    "        print(\"Você não digitou um numero inteiro.\")\n",
    "        continue\n",
    "    if entrada > 10:\n",
    "        print(\"Numero maior que 10\")\n",
    "    else:\n",
    "        print(\"Numero menor que 10\")\n",
    "    if entrada == 0:\n",
    "        print(\"Saindo do looping.\")\n",
    "        break"
   ]
  },
  {
   "cell_type": "markdown",
   "metadata": {},
   "source": [
    "## Motivação: Média harmônica"
   ]
  },
  {
   "cell_type": "markdown",
   "metadata": {},
   "source": [
    "A equação da média harmônica é dada por:"
   ]
  },
  {
   "cell_type": "markdown",
   "metadata": {},
   "source": [
    "\n",
    "$H = \\frac{n}{\\sum_{i=1}^{n} \\frac{1}{x_i}}$\n"
   ]
  },
  {
   "cell_type": "markdown",
   "metadata": {},
   "source": [
    "Sendo:\n",
    "- $ H $ é a média harmônica\n",
    "- $ n $ é o número total de elementos\n",
    "- $ x_i $ são os valores dos elementos"
   ]
  },
  {
   "cell_type": "markdown",
   "metadata": {},
   "source": [
    "Forma extensa da média harmônica:"
   ]
  },
  {
   "cell_type": "markdown",
   "metadata": {},
   "source": [
    "$ H = \\frac{n}{\\frac{1}{x_1} + \\frac{1}{x_2} + \\frac{1}{x_3} + ... + \\frac{1}{x_n}} $"
   ]
  },
  {
   "cell_type": "code",
   "execution_count": 10,
   "metadata": {},
   "outputs": [
    {
     "name": "stdout",
     "output_type": "stream",
     "text": [
      "2.18978102189781\n",
      "2.18978102189781\n",
      "Erro durante a divisão(lista contem 0,-1, vazia ou tipo não aceito)\n",
      "0\n",
      "Erro durante a divisão(lista contem 0,-1, vazia ou tipo não aceito)\n",
      "0\n",
      "Erro durante a divisão(lista contem 0,-1, vazia ou tipo não aceito)\n",
      "0\n",
      "Erro durante a divisão(lista contem 0,-1, vazia ou tipo não aceito)\n",
      "0\n"
     ]
    }
   ],
   "source": [
    "# solução\n",
    "def media_harmonica(x: list[int,float]) -> float:\n",
    "    try:\n",
    "        n = len(x)\n",
    "        denominador = 0 \n",
    "        for xi in x:\n",
    "            denominador += 1/xi\n",
    "        return n / denominador\n",
    "    except:\n",
    "        print(\"Erro durante a divisão(lista contem 0,-1, vazia ou tipo não aceito)\")\n",
    "        return 0\n",
    "\n",
    "x = [1,2,3,4,5]\n",
    "# x = [0,\"a\",-1] ou [] -> da error\n",
    "print(media_harmonica(x))\n",
    "\n",
    "values = (\n",
    "    [1,2,3,4,5],\n",
    "    [1,2,3,4,5,0],\n",
    "    [1,2,3,4,5,\"a\"],\n",
    "    [-1,1],\n",
    "    []\n",
    ")\n",
    "\n",
    "for result in map(media_harmonica, values):\n",
    "    print(result)\n"
   ]
  },
  {
   "cell_type": "code",
   "execution_count": 11,
   "metadata": {},
   "outputs": [],
   "source": [
    "def apply():\n",
    "    values = (\n",
    "    [1,2,3,4,5],\n",
    "    [1,2,3,4,5,0],\n",
    "    [1,2,3,4,5,\"a\"],\n",
    "    [-1,1],\n",
    "    []\n",
    ")\n",
    "\n",
    "    for result in map(media_harmonica, values):\n",
    "        print(result)"
   ]
  },
  {
   "cell_type": "markdown",
   "metadata": {},
   "source": [
    "TRATANDO AS EXCESSOES INDIVIDUALMENTE\n"
   ]
  },
  {
   "cell_type": "code",
   "execution_count": 17,
   "metadata": {},
   "outputs": [],
   "source": [
    "class EmptyListError(Exception):\n",
    "    pass"
   ]
  },
  {
   "cell_type": "code",
   "execution_count": 19,
   "metadata": {},
   "outputs": [
    {
     "name": "stdout",
     "output_type": "stream",
     "text": [
      "2.18978102189781\n",
      "Erro de divisão por 0\t division by zero\n",
      "0\n",
      "Erro de tipo\t unsupported operand type(s) for /: 'int' and 'str'\n",
      "0\n",
      "Erro de divisão por 0\t float division by zero\n",
      "0\n",
      "Erro de lista vazia\t Lista vazia\n",
      "0\n"
     ]
    }
   ],
   "source": [
    "# solução\n",
    "def media_harmonica(x: list[int,float]) -> float:\n",
    "    try:\n",
    "        n = len(x)\n",
    "        if n == 0:\n",
    "            raise EmptyListError(\"Lista vazia\")\n",
    "        denominador = 0 \n",
    "        for xi in x:\n",
    "            denominador += 1/xi\n",
    "        return n / denominador\n",
    "    except ZeroDivisionError as e: #possibilidade de apelidar o erro e utilizar como variavel.\n",
    "        print(\"Erro de divisão por 0\\t\", e)\n",
    "        return 0\n",
    "    except TypeError as e: #assim como o zeroDivisionError, desta forma você especifica o tipo de erro tratado\n",
    "        print(\"Erro de tipo\\t\", e)\n",
    "        return 0\n",
    "    except EmptyListError as e:\n",
    "        print(\"Erro de lista vazia\\t\", e)\n",
    "        return 0\n",
    "\n",
    "apply()\n"
   ]
  },
  {
   "cell_type": "markdown",
   "metadata": {},
   "source": [
    "Try/ Except + Else\n",
    "\n",
    "Else possui o mesmo comportamento de else em loop, ou seja, ele é executado quando não há exceções.\n",
    "\n",
    "````python\n",
    "for i in range(10):\n",
    "    print(i)\n",
    "else:\n",
    "    print('Loop finalizado com sucesso')\n",
    "\n",
    "````\n",
    "````python\n",
    "for i in range(20):\n",
    "    print(i)\n",
    "    if i == 5:\n",
    "        break ##-> excessão/ else não sera executado\n",
    "else:\n",
    "    print('Loop finalizado com sucesso')\n",
    "\n",
    "````"
   ]
  },
  {
   "cell_type": "code",
   "execution_count": 20,
   "metadata": {},
   "outputs": [
    {
     "name": "stdout",
     "output_type": "stream",
     "text": [
      "0\n",
      "1\n",
      "2\n"
     ]
    }
   ],
   "source": [
    "##Executando até p final do loop e imprime a mensagem, pois não houve interrupção\n",
    "for i in range(4):\n",
    "    print(i)\n",
    "    # if i == 2: adicionando uma quebra que faz com que ele não percora o loop inteiro, o else não é acionado\n",
    "    #     break\n",
    "else:\n",
    "    print(\"Loop finalizado com sucesso\")"
   ]
  },
  {
   "cell_type": "code",
   "execution_count": 21,
   "metadata": {},
   "outputs": [
    {
     "name": "stdout",
     "output_type": "stream",
     "text": [
      "Cálculo realizado com sucesso\n",
      "2.18978102189781\n",
      "Erro de divisão por 0\t division by zero\n",
      "0\n",
      "Erro de tipo\t unsupported operand type(s) for /: 'int' and 'str'\n",
      "0\n",
      "Erro de divisão por 0\t float division by zero\n",
      "0\n",
      "Erro de lista vazia\t Lista vazia\n",
      "0\n"
     ]
    }
   ],
   "source": [
    "def media_harmonica(x: list[int,float]) -> float:\n",
    "    try:\n",
    "        n = len(x)\n",
    "        if n == 0:\n",
    "            raise EmptyListError(\"Lista vazia\")\n",
    "        denominador = 0 \n",
    "        for xi in x:\n",
    "            denominador += 1/xi\n",
    "        result =  n / denominador\n",
    "    except ZeroDivisionError as e: #possibilidade de apelidar o erro e utilizar como variavel.\n",
    "        print(\"Erro de divisão por 0\\t\", e)\n",
    "    except TypeError as e: #assim como o zeroDivisionError, desta forma você especifica o tipo de erro tratado\n",
    "        print(\"Erro de tipo\\t\", e)\n",
    "    except EmptyListError as e:\n",
    "        print(\"Erro de lista vazia\\t\", e)\n",
    "    else: ## como o codigo foi executado com sucesso, é possivel modificar o codigo\n",
    "        print(\"Cálculo realizado com sucesso\")\n",
    "        return result\n",
    "    return 0\n",
    "\n",
    "apply()"
   ]
  },
  {
   "cell_type": "markdown",
   "metadata": {},
   "source": [
    "- Finally é um bloco de código que é executado independente de ter ocorrido exceções ou não.\n",
    "  - O finally é executado sempre, independente de ter ocorrido exceções ou não.\n",
    "- O finally é utilizado para liberar recursos, como fechar arquivos, conexões de rede, etc."
   ]
  },
  {
   "cell_type": "code",
   "execution_count": null,
   "metadata": {},
   "outputs": [],
   "source": [
    "def media_harmonica(x: list[int,float]) -> float:\n",
    "    try:\n",
    "        n = len(x)\n",
    "        if n == 0:\n",
    "            raise EmptyListError(\"Lista vazia\")\n",
    "        denominador = 0 \n",
    "        for xi in x:\n",
    "            denominador += 1/xi\n",
    "        result =  n / denominador\n",
    "    except ZeroDivisionError as e: #possibilidade de apelidar o erro e utilizar como variavel.\n",
    "        print(\"Erro de divisão por 0\\t\", e)\n",
    "    except TypeError as e: #assim como o zeroDivisionError, desta forma você especifica o tipo de erro tratado\n",
    "        print(\"Erro de tipo\\t\", e)\n",
    "    except EmptyListError as e:\n",
    "        print(\"Erro de lista vazia\\t\", e)\n",
    "    else: ## como o codigo foi executado com sucesso, é possivel modificar o codigo\n",
    "        print(\"Cálculo realizado com sucesso\")\n",
    "        return result\n",
    "    finally:\n",
    "        print(\"Fim da execução\", end=\"\\t\") #argumeto end (modifica defaults de uma função)\n",
    "    return 0\n",
    "\n",
    "apply()"
   ]
  },
  {
   "cell_type": "markdown",
   "metadata": {
    "vscode": {
     "languageId": "markdown"
    }
   },
   "source": [
    "## Exercícios"
   ]
  },
  {
   "cell_type": "markdown",
   "metadata": {},
   "source": [
    "1. **Exercício 1:** Crie uma função que receba uma lista de números e tente calcular a média. Use `try/except` para capturar qualquer erro que ocorra, como divisão por zero ou tipo de dado incorreto."
   ]
  },
  {
   "cell_type": "code",
   "execution_count": 24,
   "metadata": {},
   "outputs": [
    {
     "name": "stdout",
     "output_type": "stream",
     "text": [
      "Erro de tipo\t unsupported operand type(s) for +=: 'int' and 'str'\n",
      "3.0\n"
     ]
    }
   ],
   "source": [
    "# solução\n",
    "def media(numeros: list[int, float]) -> float:\n",
    "    numerador = 0 \n",
    "    denominador = 0\n",
    "    for numero in numeros:\n",
    "        try:\n",
    "            numerador += numero\n",
    "            denominador += 1\n",
    "        except TypeError as e:\n",
    "            print(\"Erro de tipo\\t\", e)\n",
    "            continue\n",
    "    return numerador/denominador if denominador != 0 else 0 \n",
    "\n",
    "print(media([1,2,3,4,5,\"a\"]))\n"
   ]
  },
  {
   "cell_type": "markdown",
   "metadata": {},
   "source": [
    "2. **Exercício 2:** Tente acessar uma chave específica em um dicionário. Capture uma exceção no caso de a chave não existir no dicionário."
   ]
  },
  {
   "cell_type": "code",
   "execution_count": 7,
   "metadata": {},
   "outputs": [
    {
     "name": "stdout",
     "output_type": "stream",
     "text": [
      "None\n"
     ]
    }
   ],
   "source": [
    "# solução\n",
    "d = {}\n",
    "#d[\"a\"] #fera KEyError, pois a chave a não existe\n",
    "print(d.get(\"a\")) # retorna none e não gerra erro"
   ]
  },
  {
   "cell_type": "code",
   "execution_count": 12,
   "metadata": {},
   "outputs": [
    {
     "name": "stdout",
     "output_type": "stream",
     "text": [
      "10\n"
     ]
    }
   ],
   "source": [
    "def mock_dict_get(d: dict,key: str, defalut=None):\n",
    "    # if key in d:\n",
    "    #     return d[key]\n",
    "    # else:\n",
    "    #     return defalut\n",
    "    try:\n",
    "        return d[key]\n",
    "    except KeyError:\n",
    "        return defalut\n",
    "\n",
    "d[\"cd\"] = 2\n",
    "print(mock_dict_get(d,\"i\", 10))"
   ]
  },
  {
   "cell_type": "markdown",
   "metadata": {},
   "source": [
    "3. **Exercício 3:** Crie uma função que tenta converter uma string em número inteiro, usando `try/except` para tratar erros de conversão."
   ]
  },
  {
   "cell_type": "code",
   "execution_count": null,
   "metadata": {},
   "outputs": [],
   "source": [
    "# solução"
   ]
  },
  {
   "cell_type": "markdown",
   "metadata": {},
   "source": [
    "4. **Exercício 4:** Tente acessar o índice de uma lista que está fora do seu intervalo de tamanho. Capture o erro de índice fora do alcance (`IndexError`)."
   ]
  },
  {
   "cell_type": "code",
   "execution_count": null,
   "metadata": {},
   "outputs": [],
   "source": [
    "# solução"
   ]
  },
  {
   "cell_type": "markdown",
   "metadata": {},
   "source": [
    "5. **Exercício 5:** Crie um código que tente dividir o valor de dois elementos em uma lista e capture uma exceção de `ZeroDivisionError` se o divisor for zero."
   ]
  },
  {
   "cell_type": "code",
   "execution_count": null,
   "metadata": {},
   "outputs": [],
   "source": [
    "# solução"
   ]
  },
  {
   "cell_type": "markdown",
   "metadata": {},
   "source": [
    "6. **Exercício 6:** Escreva uma função que tente concatenar duas tuplas, capturando qualquer exceção no caso de o usuário tentar concatenar com um tipo de dado diferente."
   ]
  },
  {
   "cell_type": "code",
   "execution_count": null,
   "metadata": {},
   "outputs": [],
   "source": [
    "# solução"
   ]
  },
  {
   "cell_type": "markdown",
   "metadata": {},
   "source": [
    "7. **Exercício 7:** Tente acessar um valor de uma lista que foi passada como `None`. Capture e trate o erro de `TypeError`."
   ]
  },
  {
   "cell_type": "code",
   "execution_count": null,
   "metadata": {},
   "outputs": [],
   "source": [
    "# solução"
   ]
  },
  {
   "cell_type": "markdown",
   "metadata": {},
   "source": [
    "8. **Exercício 8:** Escreva uma função que tenta atualizar um valor em um dicionário. Capture o erro no caso de o dicionário ser passado como `None`."
   ]
  },
  {
   "cell_type": "code",
   "execution_count": null,
   "metadata": {},
   "outputs": [],
   "source": [
    "# solução"
   ]
  },
  {
   "cell_type": "markdown",
   "metadata": {},
   "source": [
    "9. **Exercício 9:** Tente somar os valores de uma lista de strings convertidas para inteiros. Capture qualquer exceção de conversão usando `try/except`."
   ]
  },
  {
   "cell_type": "code",
   "execution_count": null,
   "metadata": {},
   "outputs": [],
   "source": [
    "# solução"
   ]
  },
  {
   "cell_type": "markdown",
   "metadata": {},
   "source": [
    "10. **Exercício 10:** Tente concatenar duas strings onde uma delas possa não ser do tipo `str`. Capture e trate a exceção apropriada."
   ]
  },
  {
   "cell_type": "code",
   "execution_count": null,
   "metadata": {},
   "outputs": [],
   "source": [
    "# solução"
   ]
  },
  {
   "cell_type": "markdown",
   "metadata": {},
   "source": [
    "11. **Exercício 11:** Escreva uma função que tenta pegar o valor de uma tupla em um índice específico, capturando o erro no caso de o índice estar fora do intervalo."
   ]
  },
  {
   "cell_type": "code",
   "execution_count": null,
   "metadata": {},
   "outputs": [],
   "source": [
    "# solução"
   ]
  },
  {
   "cell_type": "markdown",
   "metadata": {},
   "source": [
    "12. **Exercício 12:** Crie um código que tente fazer um cast de um valor de um dicionário para `float`. Use `try/except` para tratar os erros."
   ]
  },
  {
   "cell_type": "code",
   "execution_count": null,
   "metadata": {},
   "outputs": [],
   "source": [
    "# solução"
   ]
  },
  {
   "cell_type": "markdown",
   "metadata": {},
   "source": [
    "13. **Exercício 13:** Tente dividir dois valores de uma lista que possam estar em formato string e converta-os para inteiros. Capture qualquer exceção que possa ocorrer."
   ]
  },
  {
   "cell_type": "code",
   "execution_count": null,
   "metadata": {},
   "outputs": [],
   "source": [
    "# solução"
   ]
  },
  {
   "cell_type": "markdown",
   "metadata": {},
   "source": [
    "14. **Exercício 14:** Crie uma função que receba uma lista de tuplas e tente acessar o primeiro elemento de cada uma delas. Capture qualquer erro se alguma das tuplas estiver vazia."
   ]
  },
  {
   "cell_type": "code",
   "execution_count": null,
   "metadata": {},
   "outputs": [],
   "source": [
    "# solução"
   ]
  },
  {
   "cell_type": "markdown",
   "metadata": {},
   "source": [
    "15. **Exercício 15:** Escreva um código que tenta inverter uma string. Use `try/except` para lidar com o caso de a string ser `None`."
   ]
  },
  {
   "cell_type": "code",
   "execution_count": null,
   "metadata": {},
   "outputs": [],
   "source": [
    "# solução"
   ]
  },
  {
   "cell_type": "markdown",
   "metadata": {},
   "source": [
    "16. **Exercício 16:** Tente acessar e imprimir o primeiro caractere de uma string, capturando qualquer exceção se a string for vazia."
   ]
  },
  {
   "cell_type": "code",
   "execution_count": null,
   "metadata": {},
   "outputs": [],
   "source": [
    "# solução"
   ]
  },
  {
   "cell_type": "markdown",
   "metadata": {},
   "source": [
    "17. **Exercício 17:** Crie uma função que tenta somar dois valores de um dicionário. Capture erros caso uma das chaves não esteja presente."
   ]
  },
  {
   "cell_type": "code",
   "execution_count": null,
   "metadata": {},
   "outputs": [],
   "source": [
    "# solução"
   ]
  },
  {
   "cell_type": "markdown",
   "metadata": {},
   "source": [
    "18. **Exercício 18:** Tente dividir o comprimento de uma lista pelo número total de caracteres em uma string. Capture possíveis erros de divisão por zero e de tipos inválidos."
   ]
  },
  {
   "cell_type": "code",
   "execution_count": null,
   "metadata": {},
   "outputs": [],
   "source": [
    "# solução"
   ]
  },
  {
   "cell_type": "markdown",
   "metadata": {},
   "source": [
    "19. **Exercício 19:** Escreva uma função que tenta substituir um caractere em uma string por outro. Capture qualquer erro caso o tipo passado não seja uma string."
   ]
  },
  {
   "cell_type": "code",
   "execution_count": null,
   "metadata": {},
   "outputs": [],
   "source": [
    "# solução"
   ]
  },
  {
   "cell_type": "markdown",
   "metadata": {},
   "source": [
    "20. **Exercício 20:** Tente converter uma lista de strings em inteiros e fazer a soma dos valores. Capture qualquer erro de conversão e imprima uma mensagem adequada."
   ]
  },
  {
   "cell_type": "code",
   "execution_count": null,
   "metadata": {},
   "outputs": [],
   "source": [
    "# solução"
   ]
  }
 ],
 "metadata": {
  "kernelspec": {
   "display_name": ".venv",
   "language": "python",
   "name": "python3"
  },
  "language_info": {
   "codemirror_mode": {
    "name": "ipython",
    "version": 3
   },
   "file_extension": ".py",
   "mimetype": "text/x-python",
   "name": "python",
   "nbconvert_exporter": "python",
   "pygments_lexer": "ipython3",
   "version": "3.12.2"
  }
 },
 "nbformat": 4,
 "nbformat_minor": 2
}
