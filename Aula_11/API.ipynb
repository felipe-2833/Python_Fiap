{
 "cells": [
  {
   "cell_type": "code",
   "execution_count": 3,
   "metadata": {},
   "outputs": [
    {
     "name": "stdout",
     "output_type": "stream",
     "text": [
      "{'cep': '04581050',\n",
      " 'city': 'São Paulo',\n",
      " 'location': {'coordinates': {'latitude': '-23.6162523',\n",
      "                              'longitude': '-46.6933805'},\n",
      "              'type': 'Point'},\n",
      " 'neighborhood': 'Vila Cordeiro',\n",
      " 'service': 'open-cep',\n",
      " 'state': 'SP',\n",
      " 'street': 'Rua Roque Petrella'}\n"
     ]
    }
   ],
   "source": [
    "import requests\n",
    "from pprint import pprint as pp\n",
    "cep = \"04581050\"\n",
    "url = f\"https://brasilapi.com.br/api/cep/v2/{cep}\"\n",
    "response = requests.get(url)\n",
    "response.raise_for_status()\n",
    "pp(response.json())"
   ]
  }
 ],
 "metadata": {
  "kernelspec": {
   "display_name": "Python 3",
   "language": "python",
   "name": "python3"
  },
  "language_info": {
   "codemirror_mode": {
    "name": "ipython",
    "version": 3
   },
   "file_extension": ".py",
   "mimetype": "text/x-python",
   "name": "python",
   "nbconvert_exporter": "python",
   "pygments_lexer": "ipython3",
   "version": "3.12.3"
  }
 },
 "nbformat": 4,
 "nbformat_minor": 2
}
