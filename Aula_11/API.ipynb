{
 "cells": [
  {
   "cell_type": "code",
   "execution_count": 1,
   "metadata": {},
   "outputs": [
    {
     "name": "stdout",
     "output_type": "stream",
     "text": [
      "{'cep': '04581050',\n",
      " 'city': 'São Paulo',\n",
      " 'location': {'coordinates': {'latitude': '-23.6179295',\n",
      "                              'longitude': '-46.6909145'},\n",
      "              'type': 'Point'},\n",
      " 'neighborhood': 'Vila Cordeiro',\n",
      " 'service': 'open-cep',\n",
      " 'state': 'SP',\n",
      " 'street': 'Rua Roque Petrella'}\n"
     ]
    }
   ],
   "source": [
    "import requests\n",
    "from pprint import pprint as pp\n",
    "cep = \"04581050\"\n",
    "url = f\"https://brasilapi.com.br/api/cep/v2/{cep}\"\n",
    "response = requests.get(url)\n",
    "response.raise_for_status()\n",
    "pp(response.json())"
   ]
  },
  {
   "cell_type": "markdown",
   "metadata": {},
   "source": [
    "# Listar banco e participação do PIX"
   ]
  },
  {
   "cell_type": "markdown",
   "metadata": {},
   "source": [
    "Com base na [Brasil API](https://brasilapi.com.br/docs), vamos:\n",
    "- Capturar todos bancos disponiveis\n",
    "- Capturar todos participantes do PIX\n",
    "- Oferecer para o usuário uma alternatica para buscarse um banco é ou não participante do PIX"
   ]
  },
  {
   "cell_type": "code",
   "execution_count": null,
   "metadata": {},
   "outputs": [],
   "source": []
  }
 ],
 "metadata": {
  "kernelspec": {
   "display_name": ".venv",
   "language": "python",
   "name": "python3"
  },
  "language_info": {
   "codemirror_mode": {
    "name": "ipython",
    "version": 3
   },
   "file_extension": ".py",
   "mimetype": "text/x-python",
   "name": "python",
   "nbconvert_exporter": "python",
   "pygments_lexer": "ipython3",
   "version": "3.12.2"
  }
 },
 "nbformat": 4,
 "nbformat_minor": 2
}
